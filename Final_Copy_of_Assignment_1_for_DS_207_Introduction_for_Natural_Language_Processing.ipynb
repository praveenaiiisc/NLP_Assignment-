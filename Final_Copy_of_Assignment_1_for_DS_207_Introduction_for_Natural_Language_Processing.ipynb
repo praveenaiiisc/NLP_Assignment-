{
  "cells": [
    {
      "cell_type": "markdown",
      "metadata": {
        "id": "OerOiObFAes2"
      },
      "source": [
        "# Assignment 1\n",
        "\n",
        "**DS: 207 Introduction to Natural Language Processing**\n",
        "\n",
        "**Due (Feb 6, 16:59 PM)**\n",
        "\n",
        "Development & Design: Debarpan Bhattacharya & Nicy Scaria.\n",
        "\n",
        "Testing: Kinshuk Vasisht"
      ]
    },
    {
      "cell_type": "markdown",
      "source": [
        "The goal of this assignment is introduce the basics of text processing, by building a few text classifiers, and learning to represent words.\n",
        "\n",
        "You'll have to add your code wherever you see the comment `# ADD YOUR CODE HERE`. Please make a copy of this assignment, and you can use Google Colab notebooks to work on this. Later, you can download this notebook as a python file and submit it as per the following instructions."
      ],
      "metadata": {
        "id": "a8KnPBvJEzX9"
      }
    },
    {
      "cell_type": "markdown",
      "source": [
        "## Submission Instructions:\n",
        "\n",
        "1. In the notebook, a few example codes are provided, whereas a few are kept blank for you to fill them up.\n",
        "2. The evaluation will be based on the results obtained by functions impleted by you. Do not change the print statements having `EVALUATION` as they are used for auto-evaluation.\n",
        "3. **Submission file(s)**:\n",
        "  \n",
        "  * Save this `.ipynb` to your drive, complete the required code blocks and run the notebook.\n",
        "  * After completing this assignment, download the notebook as`.py`. Name it as `SAPname_SRno_assignment1.py`, where `SAPname` refers to your name as per SAP record, and `SRno` refers to the last 5 digits of your IISc SR number. For example, IISc student with SAP name Twyla Linda (SR no - 04-03-00-10-22-20-1-15329) would name it as `Twyla_Linda_15329_assignment1.py`.\n",
        "  *   The files associated with the Word2Vec training, i.e., the `model.pt`, `vocab.pt`, `word_embeddings.npy` and `loss.json`, will be downloaded and saved in a folder with the name `SAPname_SRno`. Zip this folder along with the `.py` file, save it as `SAPname_SRno_assigment1` and upload on MS Teams. The zip folder should contain: (1) `SAPname_SRno_assignment1.py`, (2) a subfolder called `SAPname_SRno` which will contain `model.pt`, `vocab.pt` , `word_embeddings.npy` and `loss.json`.\n",
        "\n",
        "\n",
        "Because submissions are auto-graded, please ensure that the naming of the files is consistent with the instructions."
      ],
      "metadata": {
        "id": "4qpIrZWGbSK0"
      }
    },
    {
      "cell_type": "markdown",
      "metadata": {
        "id": "UAVFm89QjHP6"
      },
      "source": [
        "## Part I Text Classification (TA: Debarpan Bhattacharya)"
      ]
    },
    {
      "cell_type": "markdown",
      "metadata": {
        "id": "HQQTcvWL7Qtm"
      },
      "source": [
        "**Dataset**:\n",
        "\n",
        "We will dive into a basic text-based sentiment classification task. The dataset consists of sentences with two different kinds of sentiments- `positive`, and `negative` sentiments. Following are a set of examples,\n",
        "\n",
        "* **`positive`**: *I really like your new haircut!*\n",
        "* **`negative`**: *Your new haircut is awful!*\n",
        "\n",
        "The Dataset has a training set (`train_data.csv`- provided), a validation set (`val_data.csv`- provided) and a blind test set (`test_data.csv`- not provided). The notebook uses a `test_data.csv` file, but it is just a duplicate of `val_data.csv`, and the blind `test_data.csv` will replace it while grading your solutions.\n",
        "\n",
        "**Important**: Fix seed as 42 whenever performing any randomized operations, e.g., initializing ML models.\n"
      ]
    },
    {
      "cell_type": "markdown",
      "source": [
        "### Download the dataset required for the assignment"
      ],
      "metadata": {
        "id": "b_gUoUztJVwX"
      }
    },
    {
      "cell_type": "code",
      "source": [
        "# download train data\n",
        "!wget -O train_data.csv \"https://docs.google.com/spreadsheets/d/176-KrOP8nhLpoW91UnrOY9oq_-I0XYNKS1zmqIErFsA/gviz/tq?tqx=out:csv&sheet=train_data.csv\"\n",
        "\n",
        "# download validation data\n",
        "!wget -O val_data.csv \"https://docs.google.com/spreadsheets/d/1YxjoAbatow3F5lbPEODToa8-YWvJoTY0aABS9zaXk-c/gviz/tq?tqx=out:csv&sheet=val_data.csv\"\n",
        "\n",
        "# download test data\n",
        "!wget -O test_data.csv \"https://docs.google.com/spreadsheets/d/1YxjoAbatow3F5lbPEODToa8-YWvJoTY0aABS9zaXk-c/gviz/tq?tqx=out:csv&sheet=val_data.csv\""
      ],
      "metadata": {
        "colab": {
          "base_uri": "https://localhost:8080/"
        },
        "id": "waznd1GRGwFx",
        "outputId": "a1ea62a2-2f5c-4d0e-9fca-2372d7cb9aec"
      },
      "execution_count": null,
      "outputs": [
        {
          "output_type": "stream",
          "name": "stdout",
          "text": [
            "--2024-02-02 14:26:59--  https://docs.google.com/spreadsheets/d/176-KrOP8nhLpoW91UnrOY9oq_-I0XYNKS1zmqIErFsA/gviz/tq?tqx=out:csv&sheet=train_data.csv\n",
            "Resolving docs.google.com (docs.google.com)... 172.217.193.100, 172.217.193.113, 172.217.193.138, ...\n",
            "Connecting to docs.google.com (docs.google.com)|172.217.193.100|:443... connected.\n",
            "HTTP request sent, awaiting response... 200 OK\n",
            "Length: unspecified [text/csv]\n",
            "Saving to: ‘train_data.csv’\n",
            "\n",
            "train_data.csv          [              <=>   ]  15.12M  5.40MB/s    in 2.8s    \n",
            "\n",
            "2024-02-02 14:27:03 (5.40 MB/s) - ‘train_data.csv’ saved [15851033]\n",
            "\n",
            "--2024-02-02 14:27:03--  https://docs.google.com/spreadsheets/d/1YxjoAbatow3F5lbPEODToa8-YWvJoTY0aABS9zaXk-c/gviz/tq?tqx=out:csv&sheet=val_data.csv\n",
            "Resolving docs.google.com (docs.google.com)... 172.217.193.100, 172.217.193.113, 172.217.193.138, ...\n",
            "Connecting to docs.google.com (docs.google.com)|172.217.193.100|:443... connected.\n",
            "HTTP request sent, awaiting response... 200 OK\n",
            "Length: unspecified [text/csv]\n",
            "Saving to: ‘val_data.csv’\n",
            "\n",
            "val_data.csv            [    <=>             ]   5.14M  7.29MB/s    in 0.7s    \n",
            "\n",
            "2024-02-02 14:27:05 (7.29 MB/s) - ‘val_data.csv’ saved [5387545]\n",
            "\n",
            "--2024-02-02 14:27:05--  https://docs.google.com/spreadsheets/d/1YxjoAbatow3F5lbPEODToa8-YWvJoTY0aABS9zaXk-c/gviz/tq?tqx=out:csv&sheet=val_data.csv\n",
            "Resolving docs.google.com (docs.google.com)... 172.217.193.100, 172.217.193.113, 172.217.193.138, ...\n",
            "Connecting to docs.google.com (docs.google.com)|172.217.193.100|:443... connected.\n",
            "HTTP request sent, awaiting response... 200 OK\n",
            "Length: unspecified [text/csv]\n",
            "Saving to: ‘test_data.csv’\n",
            "\n",
            "test_data.csv           [    <=>             ]   5.14M  7.52MB/s    in 0.7s    \n",
            "\n",
            "2024-02-02 14:27:06 (7.52 MB/s) - ‘test_data.csv’ saved [5387545]\n",
            "\n"
          ]
        }
      ]
    },
    {
      "cell_type": "code",
      "execution_count": null,
      "metadata": {
        "colab": {
          "base_uri": "https://localhost:8080/",
          "height": 206
        },
        "id": "d7B1k-8XOEqo",
        "outputId": "dbcb51ad-1e37-43b3-d4cf-c4ba5b01d3a0"
      },
      "outputs": [
        {
          "output_type": "execute_result",
          "data": {
            "text/plain": [
              "                                              review sentiment\n",
              "0  I've watched this documentary twice - and alth...  positive\n",
              "1  This is probably the worst movie I've seen in ...  negative\n",
              "2  Superb story of a dedicated young teacher who ...  positive\n",
              "3  <br /><br />Spoilers<br /><br />I'm going to b...  negative\n",
              "4  What can be said, really... \"The Tenant\" is a ...  positive"
            ],
            "text/html": [
              "\n",
              "  <div id=\"df-3507d5c4-388c-45d9-be4b-4dc5ad37580d\" class=\"colab-df-container\">\n",
              "    <div>\n",
              "<style scoped>\n",
              "    .dataframe tbody tr th:only-of-type {\n",
              "        vertical-align: middle;\n",
              "    }\n",
              "\n",
              "    .dataframe tbody tr th {\n",
              "        vertical-align: top;\n",
              "    }\n",
              "\n",
              "    .dataframe thead th {\n",
              "        text-align: right;\n",
              "    }\n",
              "</style>\n",
              "<table border=\"1\" class=\"dataframe\">\n",
              "  <thead>\n",
              "    <tr style=\"text-align: right;\">\n",
              "      <th></th>\n",
              "      <th>review</th>\n",
              "      <th>sentiment</th>\n",
              "    </tr>\n",
              "  </thead>\n",
              "  <tbody>\n",
              "    <tr>\n",
              "      <th>0</th>\n",
              "      <td>I've watched this documentary twice - and alth...</td>\n",
              "      <td>positive</td>\n",
              "    </tr>\n",
              "    <tr>\n",
              "      <th>1</th>\n",
              "      <td>This is probably the worst movie I've seen in ...</td>\n",
              "      <td>negative</td>\n",
              "    </tr>\n",
              "    <tr>\n",
              "      <th>2</th>\n",
              "      <td>Superb story of a dedicated young teacher who ...</td>\n",
              "      <td>positive</td>\n",
              "    </tr>\n",
              "    <tr>\n",
              "      <th>3</th>\n",
              "      <td>&lt;br /&gt;&lt;br /&gt;Spoilers&lt;br /&gt;&lt;br /&gt;I'm going to b...</td>\n",
              "      <td>negative</td>\n",
              "    </tr>\n",
              "    <tr>\n",
              "      <th>4</th>\n",
              "      <td>What can be said, really... \"The Tenant\" is a ...</td>\n",
              "      <td>positive</td>\n",
              "    </tr>\n",
              "  </tbody>\n",
              "</table>\n",
              "</div>\n",
              "    <div class=\"colab-df-buttons\">\n",
              "\n",
              "  <div class=\"colab-df-container\">\n",
              "    <button class=\"colab-df-convert\" onclick=\"convertToInteractive('df-3507d5c4-388c-45d9-be4b-4dc5ad37580d')\"\n",
              "            title=\"Convert this dataframe to an interactive table.\"\n",
              "            style=\"display:none;\">\n",
              "\n",
              "  <svg xmlns=\"http://www.w3.org/2000/svg\" height=\"24px\" viewBox=\"0 -960 960 960\">\n",
              "    <path d=\"M120-120v-720h720v720H120Zm60-500h600v-160H180v160Zm220 220h160v-160H400v160Zm0 220h160v-160H400v160ZM180-400h160v-160H180v160Zm440 0h160v-160H620v160ZM180-180h160v-160H180v160Zm440 0h160v-160H620v160Z\"/>\n",
              "  </svg>\n",
              "    </button>\n",
              "\n",
              "  <style>\n",
              "    .colab-df-container {\n",
              "      display:flex;\n",
              "      gap: 12px;\n",
              "    }\n",
              "\n",
              "    .colab-df-convert {\n",
              "      background-color: #E8F0FE;\n",
              "      border: none;\n",
              "      border-radius: 50%;\n",
              "      cursor: pointer;\n",
              "      display: none;\n",
              "      fill: #1967D2;\n",
              "      height: 32px;\n",
              "      padding: 0 0 0 0;\n",
              "      width: 32px;\n",
              "    }\n",
              "\n",
              "    .colab-df-convert:hover {\n",
              "      background-color: #E2EBFA;\n",
              "      box-shadow: 0px 1px 2px rgba(60, 64, 67, 0.3), 0px 1px 3px 1px rgba(60, 64, 67, 0.15);\n",
              "      fill: #174EA6;\n",
              "    }\n",
              "\n",
              "    .colab-df-buttons div {\n",
              "      margin-bottom: 4px;\n",
              "    }\n",
              "\n",
              "    [theme=dark] .colab-df-convert {\n",
              "      background-color: #3B4455;\n",
              "      fill: #D2E3FC;\n",
              "    }\n",
              "\n",
              "    [theme=dark] .colab-df-convert:hover {\n",
              "      background-color: #434B5C;\n",
              "      box-shadow: 0px 1px 3px 1px rgba(0, 0, 0, 0.15);\n",
              "      filter: drop-shadow(0px 1px 2px rgba(0, 0, 0, 0.3));\n",
              "      fill: #FFFFFF;\n",
              "    }\n",
              "  </style>\n",
              "\n",
              "    <script>\n",
              "      const buttonEl =\n",
              "        document.querySelector('#df-3507d5c4-388c-45d9-be4b-4dc5ad37580d button.colab-df-convert');\n",
              "      buttonEl.style.display =\n",
              "        google.colab.kernel.accessAllowed ? 'block' : 'none';\n",
              "\n",
              "      async function convertToInteractive(key) {\n",
              "        const element = document.querySelector('#df-3507d5c4-388c-45d9-be4b-4dc5ad37580d');\n",
              "        const dataTable =\n",
              "          await google.colab.kernel.invokeFunction('convertToInteractive',\n",
              "                                                    [key], {});\n",
              "        if (!dataTable) return;\n",
              "\n",
              "        const docLinkHtml = 'Like what you see? Visit the ' +\n",
              "          '<a target=\"_blank\" href=https://colab.research.google.com/notebooks/data_table.ipynb>data table notebook</a>'\n",
              "          + ' to learn more about interactive tables.';\n",
              "        element.innerHTML = '';\n",
              "        dataTable['output_type'] = 'display_data';\n",
              "        await google.colab.output.renderOutput(dataTable, element);\n",
              "        const docLink = document.createElement('div');\n",
              "        docLink.innerHTML = docLinkHtml;\n",
              "        element.appendChild(docLink);\n",
              "      }\n",
              "    </script>\n",
              "  </div>\n",
              "\n",
              "\n",
              "<div id=\"df-26e58f7c-17d2-416d-a985-fe61585bbc78\">\n",
              "  <button class=\"colab-df-quickchart\" onclick=\"quickchart('df-26e58f7c-17d2-416d-a985-fe61585bbc78')\"\n",
              "            title=\"Suggest charts\"\n",
              "            style=\"display:none;\">\n",
              "\n",
              "<svg xmlns=\"http://www.w3.org/2000/svg\" height=\"24px\"viewBox=\"0 0 24 24\"\n",
              "     width=\"24px\">\n",
              "    <g>\n",
              "        <path d=\"M19 3H5c-1.1 0-2 .9-2 2v14c0 1.1.9 2 2 2h14c1.1 0 2-.9 2-2V5c0-1.1-.9-2-2-2zM9 17H7v-7h2v7zm4 0h-2V7h2v10zm4 0h-2v-4h2v4z\"/>\n",
              "    </g>\n",
              "</svg>\n",
              "  </button>\n",
              "\n",
              "<style>\n",
              "  .colab-df-quickchart {\n",
              "      --bg-color: #E8F0FE;\n",
              "      --fill-color: #1967D2;\n",
              "      --hover-bg-color: #E2EBFA;\n",
              "      --hover-fill-color: #174EA6;\n",
              "      --disabled-fill-color: #AAA;\n",
              "      --disabled-bg-color: #DDD;\n",
              "  }\n",
              "\n",
              "  [theme=dark] .colab-df-quickchart {\n",
              "      --bg-color: #3B4455;\n",
              "      --fill-color: #D2E3FC;\n",
              "      --hover-bg-color: #434B5C;\n",
              "      --hover-fill-color: #FFFFFF;\n",
              "      --disabled-bg-color: #3B4455;\n",
              "      --disabled-fill-color: #666;\n",
              "  }\n",
              "\n",
              "  .colab-df-quickchart {\n",
              "    background-color: var(--bg-color);\n",
              "    border: none;\n",
              "    border-radius: 50%;\n",
              "    cursor: pointer;\n",
              "    display: none;\n",
              "    fill: var(--fill-color);\n",
              "    height: 32px;\n",
              "    padding: 0;\n",
              "    width: 32px;\n",
              "  }\n",
              "\n",
              "  .colab-df-quickchart:hover {\n",
              "    background-color: var(--hover-bg-color);\n",
              "    box-shadow: 0 1px 2px rgba(60, 64, 67, 0.3), 0 1px 3px 1px rgba(60, 64, 67, 0.15);\n",
              "    fill: var(--button-hover-fill-color);\n",
              "  }\n",
              "\n",
              "  .colab-df-quickchart-complete:disabled,\n",
              "  .colab-df-quickchart-complete:disabled:hover {\n",
              "    background-color: var(--disabled-bg-color);\n",
              "    fill: var(--disabled-fill-color);\n",
              "    box-shadow: none;\n",
              "  }\n",
              "\n",
              "  .colab-df-spinner {\n",
              "    border: 2px solid var(--fill-color);\n",
              "    border-color: transparent;\n",
              "    border-bottom-color: var(--fill-color);\n",
              "    animation:\n",
              "      spin 1s steps(1) infinite;\n",
              "  }\n",
              "\n",
              "  @keyframes spin {\n",
              "    0% {\n",
              "      border-color: transparent;\n",
              "      border-bottom-color: var(--fill-color);\n",
              "      border-left-color: var(--fill-color);\n",
              "    }\n",
              "    20% {\n",
              "      border-color: transparent;\n",
              "      border-left-color: var(--fill-color);\n",
              "      border-top-color: var(--fill-color);\n",
              "    }\n",
              "    30% {\n",
              "      border-color: transparent;\n",
              "      border-left-color: var(--fill-color);\n",
              "      border-top-color: var(--fill-color);\n",
              "      border-right-color: var(--fill-color);\n",
              "    }\n",
              "    40% {\n",
              "      border-color: transparent;\n",
              "      border-right-color: var(--fill-color);\n",
              "      border-top-color: var(--fill-color);\n",
              "    }\n",
              "    60% {\n",
              "      border-color: transparent;\n",
              "      border-right-color: var(--fill-color);\n",
              "    }\n",
              "    80% {\n",
              "      border-color: transparent;\n",
              "      border-right-color: var(--fill-color);\n",
              "      border-bottom-color: var(--fill-color);\n",
              "    }\n",
              "    90% {\n",
              "      border-color: transparent;\n",
              "      border-bottom-color: var(--fill-color);\n",
              "    }\n",
              "  }\n",
              "</style>\n",
              "\n",
              "  <script>\n",
              "    async function quickchart(key) {\n",
              "      const quickchartButtonEl =\n",
              "        document.querySelector('#' + key + ' button');\n",
              "      quickchartButtonEl.disabled = true;  // To prevent multiple clicks.\n",
              "      quickchartButtonEl.classList.add('colab-df-spinner');\n",
              "      try {\n",
              "        const charts = await google.colab.kernel.invokeFunction(\n",
              "            'suggestCharts', [key], {});\n",
              "      } catch (error) {\n",
              "        console.error('Error during call to suggestCharts:', error);\n",
              "      }\n",
              "      quickchartButtonEl.classList.remove('colab-df-spinner');\n",
              "      quickchartButtonEl.classList.add('colab-df-quickchart-complete');\n",
              "    }\n",
              "    (() => {\n",
              "      let quickchartButtonEl =\n",
              "        document.querySelector('#df-26e58f7c-17d2-416d-a985-fe61585bbc78 button');\n",
              "      quickchartButtonEl.style.display =\n",
              "        google.colab.kernel.accessAllowed ? 'block' : 'none';\n",
              "    })();\n",
              "  </script>\n",
              "</div>\n",
              "    </div>\n",
              "  </div>\n"
            ]
          },
          "metadata": {},
          "execution_count": 2
        }
      ],
      "source": [
        "#@title Read data\n",
        "import numpy as np\n",
        "import pandas as pd\n",
        "\n",
        "df = pd.read_csv('train_data.csv')\n",
        "df_val = pd.read_csv('val_data.csv')\n",
        "\n",
        "# Note that we will change the test file\n",
        "# when we grade assignments  ...\n",
        "# For now it is the same as the validation set\n",
        "df_test = pd.read_csv('test_data.csv')\n",
        "\n",
        "df.head()"
      ]
    },
    {
      "cell_type": "code",
      "execution_count": null,
      "metadata": {
        "id": "kxi5DtdKOt7e"
      },
      "outputs": [],
      "source": [
        "#@title Prepare training, validation and test data.\n",
        "\n",
        "X_train, y_train = df.review.values.tolist(), df.sentiment.values.tolist()\n",
        "X_val, y_val = df_val.review.values.tolist(), df_val.sentiment.values.tolist()\n",
        "X_test, y_test = df_test.review.values.tolist(), df_test.sentiment.values.tolist()\n",
        "\n",
        "labels = ['negative', 'positive']\n",
        "\n",
        "# converting the sentiment labels into labels\n",
        "# class 0 for negagtive, and class 1 for positive\n",
        "y_train = [labels.index(i) for i in y_train]\n",
        "y_val = [labels.index(i) for i in y_val]\n",
        "y_test = [labels.index(i) for i in y_test]"
      ]
    },
    {
      "cell_type": "markdown",
      "metadata": {
        "id": "zGiZtZSpQmk5"
      },
      "source": [
        "#### Approach 1: Rule based classification\n",
        "\n",
        "The rule-based classification works using a few hand-crafted rules. In sentiment classification, few words are associated with positive sentiment and few others with negative sentiment. Let's attempt to build a classifier that predicts the sentiment of the reviews based on such words."
      ]
    },
    {
      "cell_type": "markdown",
      "metadata": {
        "id": "yRt7jQNVaPO2"
      },
      "source": [
        "Let's first write a few rules to extract important features about the input movie review. As an example, we provide a function that counts the number of `good` and `bad` words in the input.\n",
        "\n",
        "Below, you can see a sample rule-based classification system. Later, you will be building one yourself."
      ]
    },
    {
      "cell_type": "code",
      "execution_count": null,
      "metadata": {
        "id": "JT_Et4xpPThR"
      },
      "outputs": [],
      "source": [
        "def sample_extract_features(X):\n",
        "    \"\"\"\n",
        "    Extracts features from a text input.\n",
        "\n",
        "    Args:\n",
        "        X (string): Text input.\n",
        "\n",
        "    Returns:\n",
        "        dictionary: features extracted from X.\n",
        "    \"\"\"\n",
        "\n",
        "    features = {}\n",
        "    X_split = X.split(' ')\n",
        "\n",
        "    # Count the number of \"good words\" and \"bad words\" in the text\n",
        "    good_words = ['love', 'good', 'brilliant', 'fantastic', 'amazing', 'great']\n",
        "    bad_words = ['hate', 'bad', 'horrible', 'awful', 'terrible', 'mess', 'frustating', 'frustatingly']\n",
        "\n",
        "    features['good_word_count'], features['bad_word_count'] = 0, 0\n",
        "    for x in X_split:\n",
        "        if x in good_words:\n",
        "            features['good_word_count'] = features.get('good_word_count', 0) + 1\n",
        "        if x in bad_words:\n",
        "            features['bad_word_count'] = features.get('bad_word_count', 0) + 1\n",
        "\n",
        "    # The \"bias\" value can be set to one, to allow us to assign a \"default\" score to the text\n",
        "    features['bias'] = 1\n",
        "    return features"
      ]
    },
    {
      "cell_type": "code",
      "source": [
        "def sample_predict(X, feature_weights):\n",
        "    \"\"\"\n",
        "    Classifies the sentiment of a text input.\n",
        "\n",
        "    Args:\n",
        "        X (string): Text input.\n",
        "        feature_weights: weightage of different features.\n",
        "\n",
        "    Returns:\n",
        "        int: binary sentiment represented by 0/1.\n",
        "    \"\"\"\n",
        "\n",
        "    score = 0\n",
        "\n",
        "    # Here we just multiply the feature value\n",
        "    # with its corresponding weight and aggregate\n",
        "    for feat_name, feat_value in sample_extract_features(X).items():\n",
        "        score = score + feat_value * feature_weights[feat_name]\n",
        "\n",
        "    # the prediction is based on whether the aggregated score is above 0 or not\n",
        "    if score > 0:\n",
        "        return 1\n",
        "    else:\n",
        "        return 0"
      ],
      "metadata": {
        "id": "PQea1rsPCCVz"
      },
      "execution_count": null,
      "outputs": []
    },
    {
      "cell_type": "code",
      "source": [
        "def get_sample_features_weights():\n",
        "  \"\"\"\n",
        "    To obtain feature weightage for different features.\n",
        "\n",
        "    Args:\n",
        "        None here.\n",
        "\n",
        "    Returns:\n",
        "        dictionary: feature names and their weightage.\n",
        "    \"\"\"\n",
        "  # Based on the selected features, you can manually assign them weights\n",
        "  feature_weights = {'good_word_count': 1.0, 'bad_word_count': -1.0, 'bias': 0.5}\n",
        "  return feature_weights"
      ],
      "metadata": {
        "id": "Mld2X8uP_1DK"
      },
      "execution_count": null,
      "outputs": []
    },
    {
      "cell_type": "code",
      "source": [
        "#@title Computing the accuracy of the system\n",
        "\n",
        "def calculate_accuracy(Y_true, Y_pred):\n",
        "    \"\"\"\n",
        "    Calculates accuracy of predictions given the ground truth.\n",
        "\n",
        "    Args:\n",
        "        Y_true (list): Ground truth labels.\n",
        "        Y_pred (list): Predictions.\n",
        "\n",
        "    Returns:\n",
        "        float: Prediction accuracy in range [0.0-100.0].\n",
        "    \"\"\"\n",
        "    correct = 0.0\n",
        "    total = len(Y_true)\n",
        "\n",
        "    # verify if we have the same number of predictions as labels\n",
        "    assert len(Y_true) == len(Y_pred)\n",
        "\n",
        "    # count the number of correct predictions\n",
        "    for y_true, y_pred in zip(Y_true, Y_pred):\n",
        "        if y_true == y_pred:\n",
        "            correct += 1.0\n",
        "\n",
        "    if total > 0:\n",
        "        return 100. * correct / total\n",
        "\n",
        "    # return 0 if there the total number of examples are zero\n",
        "    return 0.0"
      ],
      "metadata": {
        "id": "5soNJvv0AZeM"
      },
      "execution_count": null,
      "outputs": []
    },
    {
      "cell_type": "code",
      "source": [
        "#@title Putting the sample rule-based classifier together\n",
        "\n",
        "# get the sample weights\n",
        "sample_feature_weights = get_sample_features_weights()\n",
        "\n",
        "predictions = []\n",
        "\n",
        "# for each test example, make a prediction\n",
        "for input_example in X_test:\n",
        "    y = sample_predict(input_example, sample_feature_weights)\n",
        "    predictions.append(y)\n",
        "\n",
        "# compute and print the accuracy\n",
        "print (calculate_accuracy(y_test, predictions))"
      ],
      "metadata": {
        "colab": {
          "base_uri": "https://localhost:8080/"
        },
        "id": "aUJxIXK6COeY",
        "outputId": "4358bece-bccf-4a22-cf83-c9e7ecf34f21"
      },
      "execution_count": null,
      "outputs": [
        {
          "output_type": "stream",
          "name": "stdout",
          "text": [
            "60.5\n"
          ]
        }
      ]
    },
    {
      "cell_type": "markdown",
      "source": [
        "As you can observe here, the model achieves about 60% accuracy (note that the performance of a random classifier would be close to 50%)."
      ],
      "metadata": {
        "id": "p5zIgT9sGejB"
      }
    },
    {
      "cell_type": "markdown",
      "source": [
        "### Build your own rule-based classifier (10 marks)\n",
        "\n",
        "Your have to write your own `extract_features`, `get_feature_weights` and `predict` functions for your rule-based classifier."
      ],
      "metadata": {
        "id": "jUNaPV2KGyB1"
      }
    },
    {
      "cell_type": "code",
      "source": [
        "def extract_features(X):\n",
        "    \"\"\"\n",
        "    Extracts features from a text input.\n",
        "\n",
        "    Args:\n",
        "        X (string): Text input.\n",
        "\n",
        "    Returns:\n",
        "        dictionary: features extracted from X.\n",
        "    \"\"\"\n",
        "    features = {}\n",
        "    features['bias'] = 1\n",
        "\n",
        "    # ADD YOUR CODE HERE\n",
        "    X.lower()\n",
        "    X_split = X.split(' ')\n",
        "    too_good_words = ['wonderfully', 'excellent','amazing', 'loved', 'favorite','enjoyed', 'awesome', 'perfect', 'great',\n",
        "                      'terrific', 'wonderful', 'surprisingly','7', '8', 'glad', 'funniest', 'realistic', 'pleasantly', 'beautiful',\n",
        "                      'best','unique', 'moved','oscar', 'appeal','fantastic','magnificent','underrated','favourite','brilliant', 'rare']\n",
        "\n",
        "    good_words = ['subtle','beautifully', 'hilarious', 'easy', 'emotions', 'liked', 'brutal', 'nicely','highly', 'system',\n",
        "                  'complain', 'freedom', 'gritty', 'warm', 'appreciate','refreshing', 'relatively', 'ensemble', 'international',\n",
        "                  'enjoyable', 'reminded', 'available', 'unlike', 'extraordinary','reality', 'classic', 'superhero', 'normally',\n",
        "                  'well', 'cleverly', 'solid', 'familiar','marvelous',  'perfectly', 'captures', 'wars', 'tells', 'loss', 'bit',\n",
        "                  'obtain',  'rests', 'job', 'powerful', 'helped', 'inspired', 'underground','satire', 'impressed']\n",
        "\n",
        "    bad_words = ['fails', 'lame', 'lacks','tedious','wrote', 'problem', 'stupid', 'guess', 'industry', 'nothing', 'badly','dialogue',\n",
        "                 'redeeming', 'cheap', 'ridiculous', 'pointless', 'unintentionally', 'mediocre', 'weak', 'attempt', 'lousy','rented',\n",
        "                 'painful', 'insult', 'predictable', 'falls', 'supposed', 'lacking', 'archie','baldwin', 'wooden', 'amateurish',\n",
        "                 'mst3k', 'naked', 'cheesy', 'seagal', 'screaming','dirty','bother', 'basically', 'excited', 'mess', 'crappy', 'forward',\n",
        "                 'dukes', 'excuse','muddled', 'contrived', 'below','occasional','mistake', 'atrocious', 'unbelievable','conflict', 'promising',\n",
        "                 'drink', 'unfunny','uninspired']\n",
        "\n",
        "    too_bad_words = ['poorly', 'poor','hate','horrible','awful', 'terrible','frustating', 'frustatingly','stupid','boring','waste',\n",
        "                     'worse','worst','appalling','embarrassing','awfully','avoid', 'wasted', 'dull', 'pathetic','bad', 'annoying','disappointed',\n",
        "                     'wasting','disaster']\n",
        "\n",
        "    features['good_word_count'], features['bad_word_count'], features['too_bad_word_count'], features['too_good_word_count'] = 0, 0, 0, 0\n",
        "    for x in X_split:\n",
        "        if x in good_words:\n",
        "            features['good_word_count'] = features.get('good_word_count', 0) + 1\n",
        "        if x in bad_words:\n",
        "            features['bad_word_count'] = features.get('bad_word_count', 0) + 1\n",
        "        if x in too_bad_words:\n",
        "            features['too_bad_word_count'] = features.get('too_bad_word_count', 0) + 1\n",
        "        if x in too_good_words:\n",
        "            features['too_good_word_count'] = features.get('too_good_word_count', 0) + 1\n",
        "    # please extract features that you think would be useful.\n",
        "\n",
        "    return features"
      ],
      "metadata": {
        "id": "Aio_eGugGuuZ"
      },
      "execution_count": null,
      "outputs": []
    },
    {
      "cell_type": "code",
      "execution_count": null,
      "metadata": {
        "id": "SY0ioIklQp-J"
      },
      "outputs": [],
      "source": [
        "def get_feature_weights():\n",
        "    \"\"\"\n",
        "    To obtain feature weightage for different features.\n",
        "\n",
        "    Args:\n",
        "        None here.\n",
        "\n",
        "    Returns:\n",
        "        dictionary: feature names and their weightage.\n",
        "    \"\"\"\n",
        "\n",
        "    feature_weights = {}\n",
        "    feature_weights['bias'] = 0.5\n",
        "\n",
        "    # ADD YOUR CODE HERE\n",
        "    feature_weights = {'good_word_count': 0.5, 'bad_word_count': -0.5, 'bias': 0.0, 'too_bad_word_count': -1,  'too_good_word_count': 1}\n",
        "    # please manually assign feature weights to the features you've extracted\n",
        "\n",
        "    return feature_weights"
      ]
    },
    {
      "cell_type": "code",
      "source": [
        "def predict(X, feature_weights):\n",
        "    \"\"\"\n",
        "    Classifies the sentiment of a text input.\n",
        "\n",
        "    Args:\n",
        "        X (string): Text input.\n",
        "        feature_weights: weightage of different features.\n",
        "\n",
        "    Returns:\n",
        "        int: binary sentiment represented by 0/1.\n",
        "    \"\"\"\n",
        "\n",
        "    # ADD YOUR CODE HERE\n",
        "    score = feature_weights['bias']\n",
        "    for feat_name, feat_value in extract_features(X).items():\n",
        "      if feat_name in feature_weights:\n",
        "        score = score + feat_value * feature_weights[feat_name]\n",
        "    if score>0.0:\n",
        "      return 1\n",
        "    else:\n",
        "      return 0"
      ],
      "metadata": {
        "id": "hKqwGoZ-H7x4"
      },
      "execution_count": null,
      "outputs": []
    },
    {
      "cell_type": "code",
      "source": [
        "#@title Evaluating your rule-based classifier\n",
        "\n",
        "## Please do not change anything in this code block.\n",
        "\n",
        "feature_weights = get_feature_weights()\n",
        "\n",
        "predictions = []\n",
        "\n",
        "for input_example in X_test:\n",
        "    y = predict(input_example, feature_weights)\n",
        "    predictions.append(y)\n",
        "\n",
        "print (f\"EVALUATION of rule-based classifier is: {calculate_accuracy(y_test, predictions)}\")"
      ],
      "metadata": {
        "colab": {
          "base_uri": "https://localhost:8080/"
        },
        "id": "kxv4-0mJIJS5",
        "outputId": "23caa13a-1b16-43e7-99ed-3a95f497d5ca"
      },
      "execution_count": null,
      "outputs": [
        {
          "output_type": "stream",
          "name": "stdout",
          "text": [
            "EVALUATION of rule-based classifier is: 77.15\n"
          ]
        }
      ]
    },
    {
      "cell_type": "markdown",
      "source": [
        "You will be evaluated based on the performance of your rule-based classifier. Please note that the sample rule-based classifier achieves about 60% accuracy. Anything below 60% will not yield any points.\n",
        "\n",
        "***Please do not change the evaluation code in the block above, as it would be used to grade your classifier***."
      ],
      "metadata": {
        "id": "6u1EmkV5IaDR"
      }
    },
    {
      "cell_type": "markdown",
      "source": [
        "Below, we will directly learn the feature weights, rather than manually assigning those ourselves as manual assignment can be error-prone and labor intensive."
      ],
      "metadata": {
        "id": "7ZqIJHzbJiQe"
      }
    },
    {
      "cell_type": "code",
      "execution_count": null,
      "metadata": {
        "id": "6FTuS2MOgDUU"
      },
      "outputs": [],
      "source": [
        "#@title Learning the weights of extracted features using logistic regression.\n",
        "\n",
        "from sklearn.linear_model import LogisticRegression\n",
        "\n",
        "def get_sample_learnable_weights(X_data, Y_data, sample_extract_features):\n",
        "    \"\"\"\n",
        "    Learn feature weights using the training data.\n",
        "\n",
        "    Args:\n",
        "        X_data (list of strings): All the text data points in training data.\n",
        "        Y_data (list of int): Ground truth labels for text data points in X_data.\n",
        "        sample_extract_features: A Function that extracts features from text sample.\n",
        "                                 The sample_extract_features function should be of the\n",
        "                                 same format as sample_extract_features(X) function\n",
        "                                 implemented above.\n",
        "\n",
        "        Returns:\n",
        "            dictionary: feature names and their learned weights.\n",
        "    \"\"\"\n",
        "    # training a logistic regression model for classification using\n",
        "    # the features obtained by sample_extract_features(X) function.\n",
        "\n",
        "    # get all feature names\n",
        "    feature_names = list(sample_extract_features(X_data[0]).keys())\n",
        "\n",
        "    # Below code snippet accumulates features extracted from all the\n",
        "    # text data points in X_data.\n",
        "    all_features = []\n",
        "    # iterate over all text data points in X_data.\n",
        "    for input_example in X_data:\n",
        "      feature = [] # to store features extracted from input_example.\n",
        "      feat_dict = sample_extract_features(input_example)\n",
        "      # iterate over different feature names and store the corresonding values.\n",
        "      for name in feature_names:\n",
        "        feature.append(feat_dict[name])\n",
        "      all_features.append(feature) # append features obtained from input_example to all_features.\n",
        "\n",
        "    # Below, we show how to fit a logistic regression (LR) model using the features and the target labels.\n",
        "    # We use Sklearn's 'LogisticRegression' to do this. While initiating, 'fit_intercept' is set False,\n",
        "    # because 'bias' is already included in the extracted feature (see sample_extract_features() implementation).\n",
        "    # Also, random state is set to 42 to avoid different initialization of the model while running the codebook\n",
        "    # multiple times.\n",
        "    clf = LogisticRegression(fit_intercept=False, random_state=42).fit(all_features, Y_data)\n",
        "\n",
        "    # As training a logistic regression model assigns weights to each of the features (refer class notes),\n",
        "    # these weights are learnable and we will use them as learned feature weights.\n",
        "\n",
        "    # extract feature weights.\n",
        "    coffs = clf.coef_[0]\n",
        "\n",
        "    # convert to dictionary\n",
        "    coffs_dict = {feature_names[i]: coffs[i] for i in range(len(feature_names))}\n",
        "\n",
        "    return coffs_dict"
      ]
    },
    {
      "cell_type": "code",
      "execution_count": null,
      "metadata": {
        "id": "YsCdOCq6mtJ1",
        "colab": {
          "base_uri": "https://localhost:8080/"
        },
        "outputId": "8d76d169-b9ca-42cd-84f5-01f31a2d7d06"
      },
      "outputs": [
        {
          "output_type": "stream",
          "name": "stdout",
          "text": [
            "63.775\n"
          ]
        }
      ],
      "source": [
        "#@title Putting the sample rule-based classifier with learnable weights together\n",
        "\n",
        "# get the sample weights\n",
        "sample_feature_weights_lr = get_sample_learnable_weights(X_train, y_train, sample_extract_features)\n",
        "\n",
        "predictions = []\n",
        "\n",
        "for input_example in X_test:\n",
        "    y = sample_predict(input_example, sample_feature_weights_lr)\n",
        "    predictions.append(y)\n",
        "\n",
        "print (calculate_accuracy(y_test, predictions))"
      ]
    },
    {
      "cell_type": "markdown",
      "source": [
        "As you can observe here, the model achieves about 63% accuracy (note that the performance of a random classifier would be close to 50%). Note that, the performance significantly improves by making the weights learnable as compared to the manual weights."
      ],
      "metadata": {
        "id": "K29X_7C4zfVH"
      }
    },
    {
      "cell_type": "markdown",
      "source": [
        "## How does learnable weights-based classifier work on the features you implemented (3 marks)\n",
        "\n",
        "Your don't have to write anything here except simply running the below kernel.\n",
        "Depending upon the quality of your features, your classifier performance will vary."
      ],
      "metadata": {
        "id": "M7ztqIifzwud"
      }
    },
    {
      "cell_type": "code",
      "source": [
        "#@title Evaluating your rule-based classifier with learnable weights.\n",
        "\n",
        "## Please do not change anything in this code block.\n",
        "feature_weights_lr = get_sample_learnable_weights(X_train, y_train, extract_features)\n",
        "\n",
        "predictions = []\n",
        "\n",
        "for input_example in X_test:\n",
        "    y = predict(input_example, feature_weights_lr)\n",
        "    predictions.append(y)\n",
        "\n",
        "print (f\"EVALUATION of rule-based classifier with learnable weights is: {calculate_accuracy(y_test, predictions)}\")"
      ],
      "metadata": {
        "id": "FvVJYi980W0y",
        "colab": {
          "base_uri": "https://localhost:8080/"
        },
        "outputId": "f699c464-fee5-4c63-b089-0629f460ab41"
      },
      "execution_count": null,
      "outputs": [
        {
          "output_type": "stream",
          "name": "stdout",
          "text": [
            "EVALUATION of rule-based classifier with learnable weights is: 78.375\n"
          ]
        }
      ]
    },
    {
      "cell_type": "code",
      "execution_count": null,
      "metadata": {
        "id": "E2jMSsYLwY3L",
        "colab": {
          "base_uri": "https://localhost:8080/",
          "height": 508
        },
        "outputId": "d12119a5-5272-43d3-bfc1-9a0d3c533245"
      },
      "outputs": [
        {
          "output_type": "display_data",
          "data": {
            "text/plain": [
              "<Figure size 640x480 with 1 Axes>"
            ],
            "image/png": "[encoded data removed]"
          },
          "metadata": {}
        }
      ],
      "source": [
        "#@title Visualization and comparison between manual and learnable weights.\n",
        "\n",
        "# visualize and compare the manual weights vs learnt weights.\n",
        "\n",
        "import matplotlib.pyplot as plt\n",
        "import numpy as np\n",
        "\n",
        "feature_names = list(feature_weights.keys())\n",
        "manual_weights = [feature_weights[name] for name in feature_names]\n",
        "learnt_weights = [feature_weights_lr[name] for name in feature_names]\n",
        "weights_dict = {\n",
        "    'Manual weights': manual_weights,\n",
        "    'Learnt weights': learnt_weights,\n",
        "}\n",
        "\n",
        "x = np.arange(len(feature_names))  # the label locations\n",
        "width = 0.35  # the width of the bars\n",
        "multiplier = 0\n",
        "\n",
        "fig, ax = plt.subplots(layout='constrained')\n",
        "\n",
        "for attribute, measurement in weights_dict.items():\n",
        "    offset = width * multiplier\n",
        "    rects = ax.bar(x + offset, measurement, width, label=attribute)\n",
        "    ax.bar_label(rects, padding=3)\n",
        "    multiplier += 1\n",
        "\n",
        "# Add some text for labels, title and custom x-axis tick labels, etc.\n",
        "ax.set_ylabel('weight')\n",
        "ax.set_title('Manual vs learnable weights comparison')\n",
        "ax.set_xticks(x + width, feature_names)\n",
        "ax.legend(loc='upper left', ncols=2)\n",
        "ax.set_ylim(-2, 2)\n",
        "\n",
        "plt.savefig('manual_vs_learned_weights.png')\n",
        "# Refer to the saved manual_vs_learned_weights.png to see how manual and learned weights compare."
      ]
    },
    {
      "cell_type": "markdown",
      "metadata": {
        "id": "TirWZWbRjnJH"
      },
      "source": [
        "### Approach 2: Bag-of-Words (BoW) (10 marks)\n",
        "\n",
        "The BoW vector representations is based on the unordered counts of words piece of text (similar to a \"bag\" of words).\n",
        "\n",
        "Let's attempt to build a classifier that tries to classify the reviews based on such vectors."
      ]
    },
    {
      "cell_type": "code",
      "execution_count": null,
      "metadata": {
        "id": "TeavAClasyz6"
      },
      "outputs": [],
      "source": [
        "# implement your BoW classifier. In case the total number of words are very large,\n",
        "# consider using top-k most frequent words (e.g. k=10,000) while creating BoW vectors.\n",
        "\n",
        "# The below function finds out all words present in the corpus and assigns each word to\n",
        "# an index.\n",
        "\n",
        "def word_to_idx_BOW(X_data, K=10000):\n",
        "    \"\"\"\n",
        "    Generates a set of word-index pairs after analyzing all words present in entire\n",
        "    data corpus X_data.\n",
        "\n",
        "    Args:\n",
        "        X_data (list of strings): All the text data points in training data.\n",
        "        K (int): The number of most frequent words to be considered.\n",
        "                 In case (K-p)th to (K+q)th words in most frequent words order\n",
        "                 have same frequency, you can choose p words randomly from those\n",
        "                 (p+q) number of words.\n",
        "\n",
        "        Returns:\n",
        "            dictionary: words as keys and indices as values.\n",
        "    \"\"\"\n",
        "    word_to_idx = {}\n",
        "    # ADD YOUR CODE HERE\n",
        "    all_text = ' '.join(X_data)  # attaching all training lines\n",
        "    all_text = ''.join([char for char in all_text if char.isalnum() or char.isspace()])  # removing special characters and punctuations\n",
        "    all_text = all_text.lower()  # lowering all texts\n",
        "    words = all_text.split()\n",
        "\n",
        "    word_counts = {}\n",
        "    for word in words:\n",
        "        if word in word_counts:\n",
        "            word_counts[word] += 1\n",
        "        else:\n",
        "            word_counts[word] = 1\n",
        "    top_words = [word for word, _ in sorted(word_counts.items(), key=lambda x: x[1], reverse=True)[:K]]\n",
        "    word_to_idx = {word: idx for idx, word in enumerate(top_words)}\n",
        "    return word_to_idx\n",
        "\n",
        "# generate BoW feature for text input X.\n",
        "def extract_features_BoW(X, word_to_idx):\n",
        "    \"\"\"\n",
        "    Generates BoW feature for X using word_to_idx.\n",
        "\n",
        "    Args:\n",
        "        X (string): text input.\n",
        "        word_to_idx (dictionary): word-index mapping with words as keys and\n",
        "                                  indices as values.\n",
        "\n",
        "        Returns:\n",
        "            dictionary: features of X.\n",
        "    \"\"\"\n",
        "    features = {}\n",
        "    # ADD YOUR CODE HERE\n",
        "    X =X.lower()\n",
        "    words = X.split()\n",
        "\n",
        "    word_counts = {}\n",
        "    for word in words:\n",
        "        if word in word_counts:\n",
        "            word_counts[word] += 1\n",
        "        else:\n",
        "            word_counts[word] = 1\n",
        "\n",
        "    for word in word_to_idx:\n",
        "      if word in word_counts:\n",
        "        features[word] = word_counts[word]\n",
        "      else:\n",
        "        features[word] = 0\n",
        "\n",
        "    return features"
      ]
    },
    {
      "cell_type": "code",
      "execution_count": null,
      "metadata": {
        "colab": {
          "base_uri": "https://localhost:8080/"
        },
        "id": "2HiruQeAvMr0",
        "outputId": "edba25d6-63e6-4ea7-ce63-8e8a58d0fb56"
      },
      "outputs": [
        {
          "output_type": "stream",
          "name": "stdout",
          "text": [
            "{'the': 1, 'when': 1, 'is': 1, 'homework': 1, 'due': 1, 'are': 0, 'tas': 0, 'office': 0, 'hours': 0, 'how': 0, 'hard': 0}\n"
          ]
        }
      ],
      "source": [
        "# checking the outputs of the above functions on a small set of examples\n",
        "\n",
        "sample_data = [\n",
        "    \"When is the homework due ?\",\n",
        "    \"When are the TAs' office hours ?\",\n",
        "    \"How hard is the homework ?\",\n",
        "]\n",
        "word_to_idx = word_to_idx_BOW(sample_data)\n",
        "features = extract_features_BoW(sample_data[0], word_to_idx)\n",
        "print(features)"
      ]
    },
    {
      "cell_type": "code",
      "source": [
        "#@title Implement your feature weight learning for BoW classifier\n",
        "\n",
        "def get_learnable_weights_BoW(X_data, Y_data, word_to_idx_BOW, extract_features_BoW):\n",
        "    \"\"\"\n",
        "    Learning feature weights for BoW features, using training data.\n",
        "\n",
        "    Args:\n",
        "        X_data (list of strings): All the text data points in training data.\n",
        "        Y_data (list of int): Ground truth labels for text data points in X_data.\n",
        "        word_to_idx_BOW: A Function that looks at all the words in data corpus X_data\n",
        "                         and returns word-index mapping. You had to implement\n",
        "                         word_to_idx_BOW() funtion above.\n",
        "        extract_features_BoW: A Function that extracts BoW features from text sample.\n",
        "                              The extract_features_BoW() function had to be implemented\n",
        "                              by you above.\n",
        "\n",
        "        Returns:\n",
        "            dictionary: feature names and their learned weights.\n",
        "    \"\"\"\n",
        "\n",
        "    # ADD YOUR CODE HERE\n",
        "    from sklearn.linear_model import LogisticRegression\n",
        "    word_to_idx = word_to_idx_BOW(X_data)\n",
        "    all_features = []\n",
        "    for input_example in X_data:\n",
        "      feature = [] # to store features extracted from input_example.\n",
        "      feat_dict = extract_features_BoW(input_example,word_to_idx)\n",
        "      # iterate over different feature names and store the corresonding values.\n",
        "      for word in word_to_idx:\n",
        "        feature.append(feat_dict[word])\n",
        "      all_features.append(feature)\n",
        "\n",
        "    clf = LogisticRegression(C=0.2,max_iter=1000,fit_intercept=False, random_state=42).fit(all_features, Y_data)\n",
        "\n",
        "    coffs = clf.coef_[0]\n",
        "    feature_names = list(extract_features_BoW(X_data[0],word_to_idx).keys())\n",
        "\n",
        "    coffs_dict = {feature_names[i]: coffs[i] for i in range(len(feature_names))}\n",
        "    return coffs_dict"
      ],
      "metadata": {
        "id": "ErmQIuFWTpa_"
      },
      "execution_count": null,
      "outputs": []
    },
    {
      "cell_type": "code",
      "source": [
        "#@title Evaluating your BoW classifier\n",
        "\n",
        "def predict(X, feature_weights):\n",
        "    \"\"\"\n",
        "    Classifies the sentiment of a text input.\n",
        "\n",
        "    Args:\n",
        "        X (string): Text input.\n",
        "        feature_weights: weightage of different features.\n",
        "\n",
        "    Returns:\n",
        "        int: binary sentiment represented by 0/1.\n",
        "    \"\"\"\n",
        "    # ADD YOUR CODE HERE\n",
        "    X = X.lower()\n",
        "    words = X.split()\n",
        "\n",
        "    word_counts = {}\n",
        "    for word in words:\n",
        "        if word in word_counts:\n",
        "            word_counts[word] += 1\n",
        "        else:\n",
        "            word_counts[word] = 1\n",
        "\n",
        "    score = 0.0\n",
        "    for word,count in word_counts.items():\n",
        "      if word in feature_weights:\n",
        "        score = score + count * feature_weights[word]\n",
        "    if score>0.0:\n",
        "      return 1.0\n",
        "    else:\n",
        "      return 0.0\n",
        "\n",
        "# get the sample weights\n",
        "BoW_feature_weights_lr = get_learnable_weights_BoW(X_train, y_train, word_to_idx_BOW, extract_features_BoW)\n",
        "\n",
        "predictions = []\n",
        "\n",
        "for input_example in X_test:\n",
        "    y = predict(input_example, BoW_feature_weights_lr)\n",
        "    predictions.append(y)\n",
        "\n",
        "print (f\"EVALUATION of BoW classifier is: {calculate_accuracy(y_test, predictions)}\")"
      ],
      "metadata": {
        "id": "eJSKciYNYNXx",
        "colab": {
          "base_uri": "https://localhost:8080/"
        },
        "outputId": "9e08f69d-54cc-4ec9-84f4-13314018dbdf"
      },
      "execution_count": null,
      "outputs": [
        {
          "output_type": "stream",
          "name": "stdout",
          "text": [
            "EVALUATION of BoW classifier is: 85.25\n"
          ]
        }
      ]
    },
    {
      "cell_type": "markdown",
      "source": [
        "## Finding most positive and most negative words (2 Marks)\n",
        "\n",
        "Based on the magnitude of weights corresponding to different words, write down code to find the 5 most positive words and 5 most negative words."
      ],
      "metadata": {
        "id": "0DPrrDVmF4qs"
      }
    },
    {
      "cell_type": "code",
      "source": [
        "most_positive_words = []\n",
        "most_negative_words = []\n",
        "\n",
        "## WRITE CODE HERE TO POPULATE THESE LISTS\n",
        "most_positive_words = sorted(BoW_feature_weights_lr, key=BoW_feature_weights_lr.get, reverse=True)[:5]\n",
        "most_negative_words = sorted(BoW_feature_weights_lr, key=BoW_feature_weights_lr.get)[:5]\n",
        "## most_postive_words and most_negative_words should be list of strings\n",
        "\n",
        "assert (len(most_positive_words) == 5)\n",
        "assert (len(most_negative_words) == 5)\n",
        "\n",
        "print(\"EVALUATION five most positive words: \" + \" \".join(most_positive_words))\n",
        "print(\"EVALUATION five most negative words: \" + \" \".join(most_negative_words))"
      ],
      "metadata": {
        "id": "C6aX7UrbF_cx",
        "colab": {
          "base_uri": "https://localhost:8080/"
        },
        "outputId": "dc1e8b7b-fa4b-42a4-9de0-9fa04fe82dff"
      },
      "execution_count": null,
      "outputs": [
        {
          "output_type": "stream",
          "name": "stdout",
          "text": [
            "EVALUATION five most positive words: wonderfully excellent subtle amazing loved\n",
            "EVALUATION five most negative words: waste worst poorly poor boring\n"
          ]
        }
      ]
    },
    {
      "cell_type": "markdown",
      "metadata": {
        "id": "w48UudOSjLnh"
      },
      "source": [
        "## Part II Word2Vec (TA: Nicy Scaria)  (25 Marks)\n",
        "\n",
        "Word2vec is one of the most popular techniques to learn word embeddings. The idea behind word2vec was that the meaning of a word is determined by the context in which it occurs. A word embedding is a learned representation for text where words that have the same meaning have a similar representation.\n",
        "\n",
        "**Word2vec** model has 2 architectures:\n",
        "\n",
        "1. **Continuous bag of word (CBOW):**\n",
        "\n",
        "    CBOW predicts the center word from the surrounding context words.\n",
        "\n",
        "2. **Skip-gram:**\n",
        "\n",
        "    Skip-gram predicts surrounding context words from the center word."
      ]
    },
    {
      "cell_type": "markdown",
      "metadata": {
        "id": "baausB5gkhhT"
      },
      "source": [
        "#### SkipGram from Scratch\n",
        "\n",
        "In this exercise, you will code the skipgram model from scratch using the PyTorch library."
      ]
    },
    {
      "cell_type": "code",
      "execution_count": null,
      "metadata": {
        "colab": {
          "base_uri": "https://localhost:8080/"
        },
        "id": "_LqI4ImZcP-I",
        "outputId": "43ed6a66-e726-4987-d1c7-751d4f22ea9d"
      },
      "outputs": [
        {
          "output_type": "stream",
          "name": "stdout",
          "text": [
            "Collecting portalocker\n",
            "  Downloading portalocker-2.8.2-py3-none-any.whl (17 kB)\n",
            "Installing collected packages: portalocker\n",
            "Successfully installed portalocker-2.8.2\n"
          ]
        }
      ],
      "source": [
        "!pip install portalocker #make sure you install the library and restart the session"
      ]
    },
    {
      "cell_type": "code",
      "execution_count": null,
      "metadata": {
        "id": "_pTSKA5fiVQs"
      },
      "outputs": [],
      "source": [
        "# importing the necessary libraries\n",
        "import torch\n",
        "from functools import partial\n",
        "import torch.nn as nn\n",
        "from torch.utils.data import DataLoader\n",
        "from torchtext.data import to_map_style_dataset\n",
        "from torchtext.data.utils import get_tokenizer\n",
        "from torchtext.vocab import build_vocab_from_iterator\n",
        "from torchtext.datasets import WikiText2\n",
        "import torch.optim as optim\n",
        "from torch.optim.lr_scheduler import LambdaLR\n",
        "\n",
        "import os\n",
        "import numpy as np\n",
        "import json\n",
        "import argparse"
      ]
    },
    {
      "cell_type": "markdown",
      "metadata": {
        "id": "6Lu8GMxMlZ0f"
      },
      "source": [
        "> **In the following code the add your hyperparameters for the network.**"
      ]
    },
    {
      "cell_type": "code",
      "execution_count": null,
      "metadata": {
        "id": "RZeXkPW6URMu"
      },
      "outputs": [],
      "source": [
        "# Initialization\n",
        "\n",
        "\n",
        "\"\"\"choose your hyperparameter and see the difference in performance\"\"\"\n",
        "\n",
        "# ADD YOUR CODE HERE\n",
        "\n",
        "# CHANGE THE None VALUES TO YOUR DESIRED VALUES\n",
        "# Please free to play with these hyperparameters to see the effects on the\n",
        "# quality of generated embeddings\n",
        "\n",
        "\n",
        "SKIPGRAM_N_WORDS = 3 # the length of the context on each side (k)\n",
        "\n",
        "MIN_WORD_FREQUENCY = 4 # only words with a minimum word frequency considered\n",
        "MAX_SEQUENCE_LENGTH = None # sentences with length more than this value truncated\n",
        "\n",
        "EMBED_DIMENSION = 50 # dimension of the word2vec vectors\n",
        "\n",
        "EMBED_MAX_NORM = 1"
      ]
    },
    {
      "cell_type": "code",
      "execution_count": null,
      "metadata": {
        "id": "FxyJ0Q1fT62V"
      },
      "outputs": [],
      "source": [
        "def get_english_tokenizer():\n",
        "    \"\"\"\n",
        "    Documentation:\n",
        "    https://pytorch.org/text/stable/_modules/torchtext/data/utils.html#get_tokenizer\n",
        "    \"\"\"\n",
        "    tokenizer = get_tokenizer(\"basic_english\", language=\"en\")\n",
        "    return tokenizer\n",
        "\n",
        "def get_data_iterator(ds_name, ds_type, data_dir):\n",
        "    \"\"\"\n",
        "    input dataset used:\n",
        "    https://paperswithcode.com/dataset/wikitext-2\n",
        "    This is directly imported from PyTorch.\n",
        "    \"\"\"\n",
        "    data_iter = WikiText2(root=data_dir, split=(ds_type))\n",
        "    data_iter = to_map_style_dataset(data_iter)\n",
        "    return data_iter\n",
        "\n",
        "def build_vocab(data_iter, tokenizer):\n",
        "    \"\"\"Builds vocabulary from iterator\"\"\"\n",
        "\n",
        "    vocab = build_vocab_from_iterator(\n",
        "        map(tokenizer, data_iter),\n",
        "        specials=[\"<unk>\"], #adding special tokens to the vocabulary\n",
        "        min_freq=MIN_WORD_FREQUENCY,\n",
        "    )\n",
        "    vocab.set_default_index(vocab[\"<unk>\"])\n",
        "    return vocab\n",
        "\n",
        "\n",
        "def collate_skipgram(batch, text_pipeline):\n",
        "    \"\"\"\n",
        "    This function prepares data for training the skipgram model.\n",
        "    It generates pairs of center and context words from the batch of text.\n",
        "\n",
        "    batch: A batch of text data\n",
        "    text_pipeline: A pipeline function that processes text into tokens\n",
        "    (batch_input, batch_output) -> (center word, context words)\n",
        "    \"\"\"\n",
        "    batch_input, batch_output = [], []\n",
        "\n",
        "    # Process each text in the batch\n",
        "    for text in batch:\n",
        "        text_tokens_ids = text_pipeline(text)\n",
        "\n",
        "        # Skip texts shorter than the required window size\n",
        "        if len(text_tokens_ids) < SKIPGRAM_N_WORDS * 2 + 1:\n",
        "            continue\n",
        "\n",
        "        # Truncate texts to a maximum sequence length if specified\n",
        "        if MAX_SEQUENCE_LENGTH:\n",
        "            text_tokens_ids = text_tokens_ids[:MAX_SEQUENCE_LENGTH]\n",
        "\n",
        "        # Create training pairs for each word in the text\n",
        "        for idx in range(len(text_tokens_ids) - SKIPGRAM_N_WORDS * 2):\n",
        "            token_id_sequence = text_tokens_ids[idx : (idx + SKIPGRAM_N_WORDS * 2 + 1)]\n",
        "            input_ = token_id_sequence.pop(SKIPGRAM_N_WORDS)\n",
        "            outputs = token_id_sequence\n",
        "\n",
        "            # Add each context word with the center word to the output lists\n",
        "            for output in outputs:\n",
        "                batch_input.append(input_)\n",
        "                batch_output.append(output)\n",
        "\n",
        "    # Convert lists to PyTorch tensors\n",
        "    batch_input = torch.tensor(batch_input, dtype=torch.long)\n",
        "    batch_output = torch.tensor(batch_output, dtype=torch.long)\n",
        "\n",
        "    return batch_input, batch_output\n",
        "\n",
        "\n",
        "def get_dataloader_and_vocab(\n",
        "    model_name, ds_name, ds_type, data_dir, batch_size, shuffle, vocab=None\n",
        "    ):\n",
        "    \"\"\"\n",
        "    Prepares a DataLoader and builds a vocabulary for the dataset.\n",
        "    model_name: Name of the model to be used\n",
        "    ds_name: Name of the dataset\n",
        "    ds_type: Type of the dataset (e.g., train, test)\n",
        "    data_dir: Directory where the dataset is stored\n",
        "    batch_size: Size of each batch\n",
        "    vocab: An existing vocabulary, if available\n",
        "\n",
        "    \"\"\"\n",
        "\n",
        "    data_iter = get_data_iterator(ds_name, ds_type, data_dir)\n",
        "    tokenizer = get_english_tokenizer()\n",
        "\n",
        "    if not vocab:\n",
        "        vocab = build_vocab(data_iter, tokenizer)\n",
        "\n",
        "    text_pipeline = lambda x: vocab(tokenizer(x))\n",
        "\n",
        "    collate_fn = collate_skipgram\n",
        "\n",
        "    # creates a DataLoader for the dataset\n",
        "\n",
        "    \"\"\"\n",
        "    dataloader documentation\n",
        "    https://pytorch.org/docs/stable/data.html#torch.utils.data.DataLoader\n",
        "\n",
        "    \"\"\"\n",
        "    dataloader = DataLoader(\n",
        "        data_iter,\n",
        "        batch_size=batch_size,\n",
        "        shuffle=shuffle,\n",
        "        collate_fn=partial(collate_fn, text_pipeline=text_pipeline),\n",
        "        )\n",
        "\n",
        "    return dataloader, vocab\n"
      ]
    },
    {
      "cell_type": "markdown",
      "metadata": {
        "id": "-8Ap0SHCloMj"
      },
      "source": [
        "### Initialize the SkipGram Model\n",
        "\n",
        " **Complete the `initialization` and `forward` function in the following  SkipGram_Model class**"
      ]
    },
    {
      "cell_type": "code",
      "execution_count": null,
      "metadata": {
        "id": "2NNvSmAgYydH"
      },
      "outputs": [],
      "source": [
        "class SkipGram_Model(nn.Module):\n",
        "    \"\"\"\n",
        "    Implementation of Skip-Gram model described in paper:\n",
        "    https://arxiv.org/abs/1301.3781\n",
        "    \"\"\"\n",
        "    def __init__(self, vocab_size: int):\n",
        "        super(SkipGram_Model, self).__init__()\n",
        "\n",
        "        \"\"\"define the embedding and the linear layer of the network\"\"\"\n",
        "        # this is the initialization for the layers in the skipgram model\n",
        "        self.embeddings = nn.Embedding(\n",
        "            num_embeddings=vocab_size,\n",
        "            embedding_dim=EMBED_DIMENSION\n",
        "        )\n",
        "        self.linear = nn.Linear(\n",
        "            in_features=EMBED_DIMENSION,\n",
        "            out_features=vocab_size\n",
        "        )\n",
        "        # ADD YOUR CODE HERE\n",
        "\n",
        "    def forward(self, inputs_):\n",
        "        \"\"\"define forward function\"\"\"\n",
        "        # ADD YOUR CODE HERE\n",
        "        x = self.embeddings(inputs_)\n",
        "        x = self.linear(x)\n",
        "        # return the output of your final layer to find the minimize the loss\n",
        "\n",
        "        return x\n",
        "\n",
        "    def get_word_embedding(self):\n",
        "        \"\"\" return the associated word embeddings for center words \"\"\"\n",
        "\n",
        "        # ADD YOUR CODE HERE\n",
        "        embedding_matrix = self.embeddings.weight.cpu().detach().numpy()\n",
        "\n",
        "        normalized_matrix = np.linalg.norm(embedding_matrix, axis=1, keepdims=True)\n",
        "        normalized_matrix = embedding_matrix / normalized_matrix\n",
        "        # return the normalized embeddings as a 2D numpy array (in word2vec models,\n",
        "        # the vector associated with the center word is considered\n",
        "        # word embedding)\n",
        "\n",
        "        return normalized_matrix"
      ]
    },
    {
      "cell_type": "markdown",
      "metadata": {
        "id": "fcqxAiTSlwbw"
      },
      "source": [
        "> **The following is the Trainer class for the skip-gram model. Add your code for the `training` and `validation` loops.**"
      ]
    },
    {
      "cell_type": "code",
      "execution_count": null,
      "metadata": {
        "id": "_wSYVSMlZFwA"
      },
      "outputs": [],
      "source": [
        "class Trainer:\n",
        "    \"\"\"Main class for model training\"\"\"\n",
        "\n",
        "    # NOTE: you are free to add additional inputs/functions\n",
        "    # to the trainer class to make training better\n",
        "    # make sure to define and add it within the input\n",
        "    # and initialization if you are using any additional inputs\n",
        "    # for usage in the function\n",
        "\n",
        "    def __init__(\n",
        "        self,\n",
        "        model,\n",
        "        epochs,\n",
        "        train_dataloader,\n",
        "        val_dataloader,\n",
        "        criterion,\n",
        "        optimizer,\n",
        "        device,\n",
        "        model_dir,\n",
        "        model_name,\n",
        "    ):\n",
        "        self.model = model\n",
        "        self.epochs = epochs\n",
        "        self.train_dataloader = train_dataloader\n",
        "        self.val_dataloader = val_dataloader\n",
        "        self.criterion = criterion\n",
        "        self.optimizer = optimizer\n",
        "        self.device = device\n",
        "        self.model_dir = model_dir\n",
        "        self.model_name = model_name\n",
        "        self.loss = {\"train\": [], \"val\": []}\n",
        "        self.model.to(self.device)\n",
        "\n",
        "    # ADD YOUR CODE HERE FOR TRAINING & VALIDATION\n",
        "        self.min_val_loss = -1\n",
        "    # This implementation need not include negative sampling.\n",
        "\n",
        "    # NOTE: you can add additional functions to make training better\n",
        "    def training(self):\n",
        "        for epoch in range(self.epochs):\n",
        "            self.train(epoch)\n",
        "            self.validate(epoch)\n",
        "            print(\"Epoch: {}/{}, Train Loss={:.3f}, Val Loss={:.3f}\".format(epoch + 1,self.epochs,self.loss[\"train\"][-1],self.loss[\"val\"][-1],))\n",
        "\n",
        "            if(self.min_val_loss==-1 or self.min_val_loss > self.loss[\"val\"][-1]):\n",
        "                self.min_val_loss = self.loss[\"val\"][-1]\n",
        "                self.save_best()\n",
        "\n",
        "    def train(self, epoch):\n",
        "        \"\"\"\n",
        "        validation epoch\n",
        "        \"\"\"\n",
        "        self.model.train()\n",
        "        loss_in_epoch = []\n",
        "\n",
        "        for i, batch in enumerate(self.train_dataloader):\n",
        "            words = batch[0].to(self.device)\n",
        "            contexts = batch[1].to(self.device)\n",
        "            outputs = self.model(words)\n",
        "            loss = self.criterion(outputs, contexts)\n",
        "            loss.backward()\n",
        "            self.optimizer.step()\n",
        "            self.optimizer.zero_grad()\n",
        "\n",
        "            loss_in_epoch.append(loss.item())\n",
        "\n",
        "        mean_loss = np.mean(loss_in_epoch)\n",
        "\n",
        "        self.loss[\"train\"].append(mean_loss)\n",
        "\n",
        "    def validate(self, epoch):\n",
        "        \"\"\"\n",
        "        validation epoch\n",
        "        \"\"\"\n",
        "        self.model.eval()\n",
        "        loss_in_epoch = []\n",
        "\n",
        "        with torch.no_grad():\n",
        "            for i, batch in enumerate(self.val_dataloader):\n",
        "                words = batch[0].to(self.device)\n",
        "                contexts = batch[1].to(self.device)\n",
        "\n",
        "                outputs = self.model(words)\n",
        "                loss = self.criterion(outputs, contexts)\n",
        "\n",
        "                loss_in_epoch.append(loss.item())\n",
        "\n",
        "        mean_loss = np.mean(loss_in_epoch)\n",
        "\n",
        "        self.loss[\"val\"].append(mean_loss)\n",
        "\n",
        "    def save_best(self):\n",
        "        model_path = os.path.join(self.model_dir,\"model_bst.pt\")\n",
        "        torch.save(self.model, model_path)\n",
        "\n",
        "    def save_model(self):\n",
        "        \"\"\"\n",
        "        Save final model to directory\n",
        "\n",
        "        \"\"\"\n",
        "        model_path = os.path.join(self.model_dir, \"model.pt\")\n",
        "        torch.save(self.model, model_path)\n",
        "\n",
        "    def save_loss(self):\n",
        "        \"\"\"\n",
        "        Save train/val loss as json file to the directory\n",
        "\n",
        "        \"\"\"\n",
        "        loss_path = os.path.join(self.model_dir, \"loss.json\")\n",
        "        with open(loss_path, \"w\") as fp:\n",
        "            json.dump(self.loss, fp)"
      ]
    },
    {
      "cell_type": "markdown",
      "metadata": {
        "id": "2BgM-DGTl4qy"
      },
      "source": [
        "> **The following code block defines the various parameters and nomenclature for the training and saving of the skip-gram model. Add numerical values for the `specified hyperparameters`.**"
      ]
    },
    {
      "cell_type": "code",
      "execution_count": null,
      "metadata": {
        "id": "LzoqreghaSgc"
      },
      "outputs": [],
      "source": [
        "# ADD YOUR CODE HERE\n",
        "# CHANGE THE None VALUES TO YOUR DESIRED VALUES\n",
        "\n",
        "model_name = 'skipgram'\n",
        "\n",
        "dataset = 'WikiText2'\n",
        "data_dir = './data/'\n",
        "train_batch_size = 32\n",
        "val_batch_size = 32\n",
        "shuffle = True\n",
        "\n",
        "optimizer = None\n",
        "learning_rate = 5e-4\n",
        "epochs = 200\n",
        "\n",
        "# ADD YOUR CODE HERE\n",
        "# change the directory name with your SAPname and SRno\n",
        "\n",
        "model_dir = 'Hamvir_Dev_21337'"
      ]
    },
    {
      "cell_type": "markdown",
      "metadata": {
        "id": "DSE1qsvxmEdP"
      },
      "source": [
        "> **The following code block is used to train and save the model. Add the code wherever required**"
      ]
    },
    {
      "cell_type": "code",
      "execution_count": null,
      "metadata": {
        "id": "_zMDRVHMZWO6"
      },
      "outputs": [],
      "source": [
        "os.makedirs(model_dir)\n",
        "\n",
        "train_dataloader, vocab = get_dataloader_and_vocab(\n",
        "    model_name=model_name,\n",
        "    ds_name=dataset,\n",
        "    ds_type=\"train\",\n",
        "    data_dir=data_dir,\n",
        "    batch_size=train_batch_size,\n",
        "    shuffle=shuffle,\n",
        "    vocab=None,\n",
        ")\n",
        "\n",
        "val_dataloader, _ = get_dataloader_and_vocab(\n",
        "    model_name=model_name,\n",
        "    ds_name=dataset,\n",
        "    ds_type=\"valid\",\n",
        "    data_dir=data_dir,\n",
        "    batch_size=val_batch_size,\n",
        "    shuffle=shuffle,\n",
        "    vocab=vocab,\n",
        ")\n",
        "\n",
        "vocab_size = len(vocab.get_stoi())\n",
        "print(f\"Vocabulary size: {vocab_size}\")\n",
        "\n",
        "model_class = SkipGram_Model\n",
        "model = model_class(vocab_size=vocab_size)\n",
        "\n",
        "# ADD YOUR CODE HERE\n",
        "# You'll have to specify the loss criterion\n",
        "# Your loss function would depend upon whether you\n",
        "# choose to train with negative sampling or not\n",
        "# either of the two are valid choices\n",
        "\n",
        "criterion = nn.CrossEntropyLoss()\n",
        "\n",
        "# ADD YOUR CODE HERE\n",
        "# You'll have to specify the optimizer here\n",
        "optimizer = optim.Adam(model.parameters(), lr=learning_rate)\n",
        "\n",
        "device = torch.device(\"cuda\" if torch.cuda.is_available() else \"cpu\")\n",
        "\n",
        "# NOTE: if you are **optionally** using additional options for the trainer\n",
        "# (e.g., a training scheduler), please add them below.\n",
        "\n",
        "\n",
        "trainer = Trainer(\n",
        "    model=model,\n",
        "    epochs=epochs,\n",
        "    train_dataloader=train_dataloader,\n",
        "    val_dataloader=val_dataloader,\n",
        "    criterion=criterion,\n",
        "    optimizer=optimizer,\n",
        "    device=device,\n",
        "    model_dir=model_dir,\n",
        "    model_name=model_name,\n",
        ")\n",
        "\n",
        "trainer.training()\n",
        "print(\"Training finished.\")\n",
        "\n",
        "trainer.save_model()\n",
        "trainer.save_loss()\n",
        "vocab_path = os.path.join(model_dir, \"vocab.pt\")\n",
        "torch.save(vocab, vocab_path)\n",
        "print(\"Model artifacts saved to folder:\", model_dir)"
      ]
    },
    {
      "cell_type": "markdown",
      "metadata": {
        "id": "R1PKIac1mMsH"
      },
      "source": [
        "### Let us analyze the performance of the model\n",
        "\n",
        "You'll be evaluated on the quality of the word representations as judged by the word similarity test, and word analogy tests.\n"
      ]
    },
    {
      "cell_type": "code",
      "execution_count": null,
      "metadata": {
        "id": "x-K93nQt5CTZ"
      },
      "outputs": [],
      "source": [
        "#@title Evaluation\n",
        "\n",
        "import numpy as np\n",
        "import pandas as pd\n",
        "import torch\n",
        "import sys\n",
        "from sklearn.metrics.pairwise import cosine_similarity\n",
        "import seaborn as sns\n",
        "from sklearn.decomposition import PCA\n",
        "import matplotlib.pyplot as plt"
      ]
    },
    {
      "cell_type": "code",
      "execution_count": null,
      "metadata": {
        "id": "80d1lRiD7ms4"
      },
      "outputs": [],
      "source": [
        "# ADD YOUR CODE HERE\n",
        "# change the directory name with your SAPname and SRno\n",
        "\n",
        "folder = \"Hamvir_Dev_21337\"\n",
        "device = torch.device(\"cuda\" if torch.cuda.is_available() else \"cpu\")\n",
        "\n",
        "# load the saved model\n",
        "model = torch.load(f\"{folder}/model.pt\", map_location=device)\n",
        "vocab = torch.load(f\"{folder}/vocab.pt\")"
      ]
    },
    {
      "cell_type": "code",
      "source": [
        "word_embeddings = model.get_word_embedding()\n",
        "\n",
        "# ADD YOUR CODE HERE\n",
        "# change the directory name with your SAPname and SRno\n",
        "\n",
        "# Save the embeddings to the folder\n",
        "np.save('Hamvir_Dev_21337/word_embeddings.npy', word_embeddings)"
      ],
      "metadata": {
        "id": "Wc9AMn5GVUKZ"
      },
      "execution_count": null,
      "outputs": []
    },
    {
      "cell_type": "markdown",
      "source": [
        "Once the embeddings are trained, we can use a few words to evaluate some desirable properties of word representations.\n",
        "\n",
        "For instance, whether similar words are indeed similar in the high-dimensional space?"
      ],
      "metadata": {
        "id": "21pPrbet--qJ"
      }
    },
    {
      "cell_type": "code",
      "execution_count": null,
      "metadata": {
        "id": "E7hq6o3z777b"
      },
      "outputs": [],
      "source": [
        "words = ['king', 'queen', 'river', 'water', 'ocean', 'tree', 'plant', 'happy', 'glad', 'mother', 'daughter']"
      ]
    },
    {
      "cell_type": "markdown",
      "metadata": {
        "id": "f5kAEr9rmYym"
      },
      "source": [
        "> **Write a code to find the similarity of the each word in words with eachother**"
      ]
    },
    {
      "cell_type": "code",
      "execution_count": null,
      "metadata": {
        "id": "dCXVzRrh8Dvu"
      },
      "outputs": [],
      "source": [
        "def get_word_similarity(words):\n",
        "  \"\"\"\n",
        "  This function takes the words as input and outputs the word vectors\n",
        "  corresponding to the words obtained from your word2vec model and the\n",
        "  similarity of every word with each other.\n",
        "  word2vec is the embedding matrix corresponding to the given words and\n",
        "  this has to be returned as a numpy array to apply PCA on it whereas,\n",
        "  w2v_similarity[i][j] should contain the similarity of word i with word j\n",
        "\n",
        "  \"\"\"\n",
        "  # ADD YOUR CODE HERE\n",
        "  lst = []\n",
        "  for word in words:\n",
        "    index = vocab([word])\n",
        "    lst.append(word_embeddings[index])\n",
        "  word2vec = np.vstack(lst)\n",
        "  # you'll have to compute the similarity matrix for the words given above\n",
        "  w2v_similarity = word2vec @ word2vec.T\n",
        "  return word2vec, w2v_similarity\n",
        "\n",
        "word2vec, w2v_similarity = get_word_similarity(words)"
      ]
    },
    {
      "cell_type": "markdown",
      "metadata": {
        "id": "ZrUjGgstmhx8"
      },
      "source": [
        "Let us visualize this similarity matrix. The similarity of each word with other words in words is displayed as a pandas dataframe and as a heatmap"
      ]
    },
    {
      "cell_type": "code",
      "execution_count": null,
      "metadata": {
        "id": "q8OVhSUZ8LZT",
        "colab": {
          "base_uri": "https://localhost:8080/",
          "height": 394
        },
        "outputId": "bc6455ba-7101-47c7-bfd1-b69f8f624067"
      },
      "outputs": [
        {
          "output_type": "execute_result",
          "data": {
            "text/plain": [
              "              king     queen     river     water     ocean      tree  \\\n",
              "king      1.000000 -0.064552  0.192288  0.170947 -0.076763 -0.056376   \n",
              "queen    -0.064552  1.000000 -0.029534 -0.224340  0.005980  0.253282   \n",
              "river     0.192288 -0.029534  1.000000 -0.041575  0.052554  0.031465   \n",
              "water     0.170947 -0.224340 -0.041575  1.000000  0.374715  0.083299   \n",
              "ocean    -0.076763  0.005980  0.052554  0.374715  1.000000 -0.046421   \n",
              "tree     -0.056376  0.253282  0.031465  0.083299 -0.046421  1.000000   \n",
              "plant     0.058877  0.068131 -0.103164  0.197398 -0.050594  0.176752   \n",
              "happy    -0.132100  0.203596 -0.106058 -0.149497 -0.180192  0.144963   \n",
              "glad     -0.122078  0.052288  0.061579 -0.069934 -0.031443  0.095561   \n",
              "mother   -0.195646 -0.096737 -0.051722  0.063456  0.062988  0.095902   \n",
              "daughter -0.141627  0.134901 -0.053158 -0.012745 -0.060697 -0.036733   \n",
              "\n",
              "             plant     happy      glad    mother  daughter  \n",
              "king      0.058877 -0.132100 -0.122078 -0.195646 -0.141627  \n",
              "queen     0.068131  0.203596  0.052288 -0.096737  0.134901  \n",
              "river    -0.103164 -0.106058  0.061579 -0.051722 -0.053158  \n",
              "water     0.197398 -0.149497 -0.069934  0.063456 -0.012745  \n",
              "ocean    -0.050594 -0.180192 -0.031443  0.062988 -0.060697  \n",
              "tree      0.176752  0.144963  0.095561  0.095902 -0.036733  \n",
              "plant     1.000000  0.028759 -0.035806  0.097202  0.276483  \n",
              "happy     0.028759  1.000000 -0.100722  0.116085  0.238311  \n",
              "glad     -0.035806 -0.100722  1.000000 -0.120901 -0.111489  \n",
              "mother    0.097202  0.116085 -0.120901  1.000000  0.298921  \n",
              "daughter  0.276483  0.238311 -0.111489  0.298921  1.000000  "
            ],
            "text/html": [
              "\n",
              "  <div id=\"df-cde48bce-03f1-4218-af28-7a1236c8ea4e\" class=\"colab-df-container\">\n",
              "    <div>\n",
              "<style scoped>\n",
              "    .dataframe tbody tr th:only-of-type {\n",
              "        vertical-align: middle;\n",
              "    }\n",
              "\n",
              "    .dataframe tbody tr th {\n",
              "        vertical-align: top;\n",
              "    }\n",
              "\n",
              "    .dataframe thead th {\n",
              "        text-align: right;\n",
              "    }\n",
              "</style>\n",
              "<table border=\"1\" class=\"dataframe\">\n",
              "  <thead>\n",
              "    <tr style=\"text-align: right;\">\n",
              "      <th></th>\n",
              "      <th>king</th>\n",
              "      <th>queen</th>\n",
              "      <th>river</th>\n",
              "      <th>water</th>\n",
              "      <th>ocean</th>\n",
              "      <th>tree</th>\n",
              "      <th>plant</th>\n",
              "      <th>happy</th>\n",
              "      <th>glad</th>\n",
              "      <th>mother</th>\n",
              "      <th>daughter</th>\n",
              "    </tr>\n",
              "  </thead>\n",
              "  <tbody>\n",
              "    <tr>\n",
              "      <th>king</th>\n",
              "      <td>1.000000</td>\n",
              "      <td>-0.064552</td>\n",
              "      <td>0.192288</td>\n",
              "      <td>0.170947</td>\n",
              "      <td>-0.076763</td>\n",
              "      <td>-0.056376</td>\n",
              "      <td>0.058877</td>\n",
              "      <td>-0.132100</td>\n",
              "      <td>-0.122078</td>\n",
              "      <td>-0.195646</td>\n",
              "      <td>-0.141627</td>\n",
              "    </tr>\n",
              "    <tr>\n",
              "      <th>queen</th>\n",
              "      <td>-0.064552</td>\n",
              "      <td>1.000000</td>\n",
              "      <td>-0.029534</td>\n",
              "      <td>-0.224340</td>\n",
              "      <td>0.005980</td>\n",
              "      <td>0.253282</td>\n",
              "      <td>0.068131</td>\n",
              "      <td>0.203596</td>\n",
              "      <td>0.052288</td>\n",
              "      <td>-0.096737</td>\n",
              "      <td>0.134901</td>\n",
              "    </tr>\n",
              "    <tr>\n",
              "      <th>river</th>\n",
              "      <td>0.192288</td>\n",
              "      <td>-0.029534</td>\n",
              "      <td>1.000000</td>\n",
              "      <td>-0.041575</td>\n",
              "      <td>0.052554</td>\n",
              "      <td>0.031465</td>\n",
              "      <td>-0.103164</td>\n",
              "      <td>-0.106058</td>\n",
              "      <td>0.061579</td>\n",
              "      <td>-0.051722</td>\n",
              "      <td>-0.053158</td>\n",
              "    </tr>\n",
              "    <tr>\n",
              "      <th>water</th>\n",
              "      <td>0.170947</td>\n",
              "      <td>-0.224340</td>\n",
              "      <td>-0.041575</td>\n",
              "      <td>1.000000</td>\n",
              "      <td>0.374715</td>\n",
              "      <td>0.083299</td>\n",
              "      <td>0.197398</td>\n",
              "      <td>-0.149497</td>\n",
              "      <td>-0.069934</td>\n",
              "      <td>0.063456</td>\n",
              "      <td>-0.012745</td>\n",
              "    </tr>\n",
              "    <tr>\n",
              "      <th>ocean</th>\n",
              "      <td>-0.076763</td>\n",
              "      <td>0.005980</td>\n",
              "      <td>0.052554</td>\n",
              "      <td>0.374715</td>\n",
              "      <td>1.000000</td>\n",
              "      <td>-0.046421</td>\n",
              "      <td>-0.050594</td>\n",
              "      <td>-0.180192</td>\n",
              "      <td>-0.031443</td>\n",
              "      <td>0.062988</td>\n",
              "      <td>-0.060697</td>\n",
              "    </tr>\n",
              "    <tr>\n",
              "      <th>tree</th>\n",
              "      <td>-0.056376</td>\n",
              "      <td>0.253282</td>\n",
              "      <td>0.031465</td>\n",
              "      <td>0.083299</td>\n",
              "      <td>-0.046421</td>\n",
              "      <td>1.000000</td>\n",
              "      <td>0.176752</td>\n",
              "      <td>0.144963</td>\n",
              "      <td>0.095561</td>\n",
              "      <td>0.095902</td>\n",
              "      <td>-0.036733</td>\n",
              "    </tr>\n",
              "    <tr>\n",
              "      <th>plant</th>\n",
              "      <td>0.058877</td>\n",
              "      <td>0.068131</td>\n",
              "      <td>-0.103164</td>\n",
              "      <td>0.197398</td>\n",
              "      <td>-0.050594</td>\n",
              "      <td>0.176752</td>\n",
              "      <td>1.000000</td>\n",
              "      <td>0.028759</td>\n",
              "      <td>-0.035806</td>\n",
              "      <td>0.097202</td>\n",
              "      <td>0.276483</td>\n",
              "    </tr>\n",
              "    <tr>\n",
              "      <th>happy</th>\n",
              "      <td>-0.132100</td>\n",
              "      <td>0.203596</td>\n",
              "      <td>-0.106058</td>\n",
              "      <td>-0.149497</td>\n",
              "      <td>-0.180192</td>\n",
              "      <td>0.144963</td>\n",
              "      <td>0.028759</td>\n",
              "      <td>1.000000</td>\n",
              "      <td>-0.100722</td>\n",
              "      <td>0.116085</td>\n",
              "      <td>0.238311</td>\n",
              "    </tr>\n",
              "    <tr>\n",
              "      <th>glad</th>\n",
              "      <td>-0.122078</td>\n",
              "      <td>0.052288</td>\n",
              "      <td>0.061579</td>\n",
              "      <td>-0.069934</td>\n",
              "      <td>-0.031443</td>\n",
              "      <td>0.095561</td>\n",
              "      <td>-0.035806</td>\n",
              "      <td>-0.100722</td>\n",
              "      <td>1.000000</td>\n",
              "      <td>-0.120901</td>\n",
              "      <td>-0.111489</td>\n",
              "    </tr>\n",
              "    <tr>\n",
              "      <th>mother</th>\n",
              "      <td>-0.195646</td>\n",
              "      <td>-0.096737</td>\n",
              "      <td>-0.051722</td>\n",
              "      <td>0.063456</td>\n",
              "      <td>0.062988</td>\n",
              "      <td>0.095902</td>\n",
              "      <td>0.097202</td>\n",
              "      <td>0.116085</td>\n",
              "      <td>-0.120901</td>\n",
              "      <td>1.000000</td>\n",
              "      <td>0.298921</td>\n",
              "    </tr>\n",
              "    <tr>\n",
              "      <th>daughter</th>\n",
              "      <td>-0.141627</td>\n",
              "      <td>0.134901</td>\n",
              "      <td>-0.053158</td>\n",
              "      <td>-0.012745</td>\n",
              "      <td>-0.060697</td>\n",
              "      <td>-0.036733</td>\n",
              "      <td>0.276483</td>\n",
              "      <td>0.238311</td>\n",
              "      <td>-0.111489</td>\n",
              "      <td>0.298921</td>\n",
              "      <td>1.000000</td>\n",
              "    </tr>\n",
              "  </tbody>\n",
              "</table>\n",
              "</div>\n",
              "    <div class=\"colab-df-buttons\">\n",
              "\n",
              "  <div class=\"colab-df-container\">\n",
              "    <button class=\"colab-df-convert\" onclick=\"convertToInteractive('df-cde48bce-03f1-4218-af28-7a1236c8ea4e')\"\n",
              "            title=\"Convert this dataframe to an interactive table.\"\n",
              "            style=\"display:none;\">\n",
              "\n",
              "  <svg xmlns=\"http://www.w3.org/2000/svg\" height=\"24px\" viewBox=\"0 -960 960 960\">\n",
              "    <path d=\"M120-120v-720h720v720H120Zm60-500h600v-160H180v160Zm220 220h160v-160H400v160Zm0 220h160v-160H400v160ZM180-400h160v-160H180v160Zm440 0h160v-160H620v160ZM180-180h160v-160H180v160Zm440 0h160v-160H620v160Z\"/>\n",
              "  </svg>\n",
              "    </button>\n",
              "\n",
              "  <style>\n",
              "    .colab-df-container {\n",
              "      display:flex;\n",
              "      gap: 12px;\n",
              "    }\n",
              "\n",
              "    .colab-df-convert {\n",
              "      background-color: #E8F0FE;\n",
              "      border: none;\n",
              "      border-radius: 50%;\n",
              "      cursor: pointer;\n",
              "      display: none;\n",
              "      fill: #1967D2;\n",
              "      height: 32px;\n",
              "      padding: 0 0 0 0;\n",
              "      width: 32px;\n",
              "    }\n",
              "\n",
              "    .colab-df-convert:hover {\n",
              "      background-color: #E2EBFA;\n",
              "      box-shadow: 0px 1px 2px rgba(60, 64, 67, 0.3), 0px 1px 3px 1px rgba(60, 64, 67, 0.15);\n",
              "      fill: #174EA6;\n",
              "    }\n",
              "\n",
              "    .colab-df-buttons div {\n",
              "      margin-bottom: 4px;\n",
              "    }\n",
              "\n",
              "    [theme=dark] .colab-df-convert {\n",
              "      background-color: #3B4455;\n",
              "      fill: #D2E3FC;\n",
              "    }\n",
              "\n",
              "    [theme=dark] .colab-df-convert:hover {\n",
              "      background-color: #434B5C;\n",
              "      box-shadow: 0px 1px 3px 1px rgba(0, 0, 0, 0.15);\n",
              "      filter: drop-shadow(0px 1px 2px rgba(0, 0, 0, 0.3));\n",
              "      fill: #FFFFFF;\n",
              "    }\n",
              "  </style>\n",
              "\n",
              "    <script>\n",
              "      const buttonEl =\n",
              "        document.querySelector('#df-cde48bce-03f1-4218-af28-7a1236c8ea4e button.colab-df-convert');\n",
              "      buttonEl.style.display =\n",
              "        google.colab.kernel.accessAllowed ? 'block' : 'none';\n",
              "\n",
              "      async function convertToInteractive(key) {\n",
              "        const element = document.querySelector('#df-cde48bce-03f1-4218-af28-7a1236c8ea4e');\n",
              "        const dataTable =\n",
              "          await google.colab.kernel.invokeFunction('convertToInteractive',\n",
              "                                                    [key], {});\n",
              "        if (!dataTable) return;\n",
              "\n",
              "        const docLinkHtml = 'Like what you see? Visit the ' +\n",
              "          '<a target=\"_blank\" href=https://colab.research.google.com/notebooks/data_table.ipynb>data table notebook</a>'\n",
              "          + ' to learn more about interactive tables.';\n",
              "        element.innerHTML = '';\n",
              "        dataTable['output_type'] = 'display_data';\n",
              "        await google.colab.output.renderOutput(dataTable, element);\n",
              "        const docLink = document.createElement('div');\n",
              "        docLink.innerHTML = docLinkHtml;\n",
              "        element.appendChild(docLink);\n",
              "      }\n",
              "    </script>\n",
              "  </div>\n",
              "\n",
              "\n",
              "<div id=\"df-5ef27fb8-6410-4987-8dc8-36e192d8e50e\">\n",
              "  <button class=\"colab-df-quickchart\" onclick=\"quickchart('df-5ef27fb8-6410-4987-8dc8-36e192d8e50e')\"\n",
              "            title=\"Suggest charts\"\n",
              "            style=\"display:none;\">\n",
              "\n",
              "<svg xmlns=\"http://www.w3.org/2000/svg\" height=\"24px\"viewBox=\"0 0 24 24\"\n",
              "     width=\"24px\">\n",
              "    <g>\n",
              "        <path d=\"M19 3H5c-1.1 0-2 .9-2 2v14c0 1.1.9 2 2 2h14c1.1 0 2-.9 2-2V5c0-1.1-.9-2-2-2zM9 17H7v-7h2v7zm4 0h-2V7h2v10zm4 0h-2v-4h2v4z\"/>\n",
              "    </g>\n",
              "</svg>\n",
              "  </button>\n",
              "\n",
              "<style>\n",
              "  .colab-df-quickchart {\n",
              "      --bg-color: #E8F0FE;\n",
              "      --fill-color: #1967D2;\n",
              "      --hover-bg-color: #E2EBFA;\n",
              "      --hover-fill-color: #174EA6;\n",
              "      --disabled-fill-color: #AAA;\n",
              "      --disabled-bg-color: #DDD;\n",
              "  }\n",
              "\n",
              "  [theme=dark] .colab-df-quickchart {\n",
              "      --bg-color: #3B4455;\n",
              "      --fill-color: #D2E3FC;\n",
              "      --hover-bg-color: #434B5C;\n",
              "      --hover-fill-color: #FFFFFF;\n",
              "      --disabled-bg-color: #3B4455;\n",
              "      --disabled-fill-color: #666;\n",
              "  }\n",
              "\n",
              "  .colab-df-quickchart {\n",
              "    background-color: var(--bg-color);\n",
              "    border: none;\n",
              "    border-radius: 50%;\n",
              "    cursor: pointer;\n",
              "    display: none;\n",
              "    fill: var(--fill-color);\n",
              "    height: 32px;\n",
              "    padding: 0;\n",
              "    width: 32px;\n",
              "  }\n",
              "\n",
              "  .colab-df-quickchart:hover {\n",
              "    background-color: var(--hover-bg-color);\n",
              "    box-shadow: 0 1px 2px rgba(60, 64, 67, 0.3), 0 1px 3px 1px rgba(60, 64, 67, 0.15);\n",
              "    fill: var(--button-hover-fill-color);\n",
              "  }\n",
              "\n",
              "  .colab-df-quickchart-complete:disabled,\n",
              "  .colab-df-quickchart-complete:disabled:hover {\n",
              "    background-color: var(--disabled-bg-color);\n",
              "    fill: var(--disabled-fill-color);\n",
              "    box-shadow: none;\n",
              "  }\n",
              "\n",
              "  .colab-df-spinner {\n",
              "    border: 2px solid var(--fill-color);\n",
              "    border-color: transparent;\n",
              "    border-bottom-color: var(--fill-color);\n",
              "    animation:\n",
              "      spin 1s steps(1) infinite;\n",
              "  }\n",
              "\n",
              "  @keyframes spin {\n",
              "    0% {\n",
              "      border-color: transparent;\n",
              "      border-bottom-color: var(--fill-color);\n",
              "      border-left-color: var(--fill-color);\n",
              "    }\n",
              "    20% {\n",
              "      border-color: transparent;\n",
              "      border-left-color: var(--fill-color);\n",
              "      border-top-color: var(--fill-color);\n",
              "    }\n",
              "    30% {\n",
              "      border-color: transparent;\n",
              "      border-left-color: var(--fill-color);\n",
              "      border-top-color: var(--fill-color);\n",
              "      border-right-color: var(--fill-color);\n",
              "    }\n",
              "    40% {\n",
              "      border-color: transparent;\n",
              "      border-right-color: var(--fill-color);\n",
              "      border-top-color: var(--fill-color);\n",
              "    }\n",
              "    60% {\n",
              "      border-color: transparent;\n",
              "      border-right-color: var(--fill-color);\n",
              "    }\n",
              "    80% {\n",
              "      border-color: transparent;\n",
              "      border-right-color: var(--fill-color);\n",
              "      border-bottom-color: var(--fill-color);\n",
              "    }\n",
              "    90% {\n",
              "      border-color: transparent;\n",
              "      border-bottom-color: var(--fill-color);\n",
              "    }\n",
              "  }\n",
              "</style>\n",
              "\n",
              "  <script>\n",
              "    async function quickchart(key) {\n",
              "      const quickchartButtonEl =\n",
              "        document.querySelector('#' + key + ' button');\n",
              "      quickchartButtonEl.disabled = true;  // To prevent multiple clicks.\n",
              "      quickchartButtonEl.classList.add('colab-df-spinner');\n",
              "      try {\n",
              "        const charts = await google.colab.kernel.invokeFunction(\n",
              "            'suggestCharts', [key], {});\n",
              "      } catch (error) {\n",
              "        console.error('Error during call to suggestCharts:', error);\n",
              "      }\n",
              "      quickchartButtonEl.classList.remove('colab-df-spinner');\n",
              "      quickchartButtonEl.classList.add('colab-df-quickchart-complete');\n",
              "    }\n",
              "    (() => {\n",
              "      let quickchartButtonEl =\n",
              "        document.querySelector('#df-5ef27fb8-6410-4987-8dc8-36e192d8e50e button');\n",
              "      quickchartButtonEl.style.display =\n",
              "        google.colab.kernel.accessAllowed ? 'block' : 'none';\n",
              "    })();\n",
              "  </script>\n",
              "</div>\n",
              "\n",
              "    </div>\n",
              "  </div>\n"
            ]
          },
          "metadata": {},
          "execution_count": 17
        }
      ],
      "source": [
        "pd.DataFrame(w2v_similarity, columns = words, index = words)"
      ]
    },
    {
      "cell_type": "code",
      "execution_count": null,
      "metadata": {
        "id": "9AWL0kqAmqsK",
        "colab": {
          "base_uri": "https://localhost:8080/",
          "height": 502
        },
        "outputId": "c8f53f74-ce8c-4750-a872-3816f2410902"
      },
      "outputs": [
        {
          "output_type": "execute_result",
          "data": {
            "text/plain": [
              "<Axes: >"
            ]
          },
          "metadata": {},
          "execution_count": 18
        },
        {
          "output_type": "display_data",
          "data": {
            "text/plain": [
              "<Figure size 640x480 with 2 Axes>"
            ],
            "image/png": "[encoded data removed]"
          },
          "metadata": {}
        }
      ],
      "source": [
        "sns.heatmap(pd.DataFrame(w2v_similarity, columns = words, index = words))"
      ]
    },
    {
      "cell_type": "markdown",
      "metadata": {
        "id": "V12MD_EumuA7"
      },
      "source": [
        "The size of the words embedding are reduced to to 2D and displayed as a scatterplot for analysis"
      ]
    },
    {
      "cell_type": "code",
      "execution_count": null,
      "metadata": {
        "id": "AF9qSiwNmwzw"
      },
      "outputs": [],
      "source": [
        "# Create a 2-dimensional PCA model of the word vectors using the scikit-learn PCA class\n",
        "# n_components in PCA specifies the no.of dimensions\n",
        "pca = PCA(n_components=2)\n",
        "\n",
        "# Fit and transform the vectors using PCA model\n",
        "reduced_w2v = pca.fit_transform(word2vec)"
      ]
    },
    {
      "cell_type": "code",
      "execution_count": null,
      "metadata": {
        "id": "kS9QF8AE8MTG",
        "colab": {
          "base_uri": "https://localhost:8080/",
          "height": 451
        },
        "outputId": "ec90962c-20f9-4777-f2c7-442851e1f008"
      },
      "outputs": [
        {
          "output_type": "display_data",
          "data": {
            "text/plain": [
              "<Figure size 800x500 with 1 Axes>"
            ],
            "image/png": "[encoded data removed]"
          },
          "metadata": {}
        }
      ],
      "source": [
        "plt.figure(figsize=(8,5))\n",
        "plt.scatter(reduced_w2v[:,0],reduced_w2v[:,1], s = 12, color = 'red')\n",
        "plt.xlim([-2,2])\n",
        "plt.ylim([-2,2])\n",
        "x, y = reduced_w2v[:,0] , reduced_w2v[:,1]\n",
        "offset = 0.5\n",
        "for i in range(len(x)):\n",
        "    label = words[i]\n",
        "    xi, yi = x[i], y[i]\n",
        "    plt.annotate(label, (xi, yi), xytext=(xi + offset, yi + offset),\n",
        "                 textcoords='offset points', ha='center', va='center')\n",
        "\n",
        "plt.savefig(\"word_similarity.png\")"
      ]
    },
    {
      "cell_type": "markdown",
      "metadata": {
        "id": "p4w3UUE1m4W_"
      },
      "source": [
        "The 10 most similar word to the given word is calculated in the following code blocks"
      ]
    },
    {
      "cell_type": "code",
      "execution_count": null,
      "metadata": {
        "id": "cvXS4uzd8O7W"
      },
      "outputs": [],
      "source": [
        "def get_top_similar(word: str, topN: int = 10):\n",
        "\n",
        "    \"\"\"\n",
        "    This function calculates the topN words similar to the input word.\n",
        "    If the word is not in vocabulary, then similarity is not calculated.\n",
        "    If the word is in the vocabulary, then the dot product of the embedding\n",
        "    matrix and the word vector is calculated. The topN words are selected.\n",
        "    \"\"\"\n",
        "    word_id = vocab[word]\n",
        "    if word_id == 0:\n",
        "        print(\"Out of vocabulary word\")\n",
        "        return\n",
        "\n",
        "    word_vec = word_embeddings[word_id]\n",
        "    word_vec = np.reshape(word_vec, (len(word_vec), 1))\n",
        "\n",
        "    dists = np.matmul(word_embeddings, word_vec).flatten()\n",
        "    topN_ids = np.argsort(-dists)[1 : topN + 1]\n",
        "\n",
        "    topN_dict = {}\n",
        "    for sim_word_id in topN_ids:\n",
        "        sim_word = vocab.lookup_token(sim_word_id)\n",
        "        topN_dict[sim_word] = dists[sim_word_id]\n",
        "\n",
        "    return topN_dict"
      ]
    },
    {
      "cell_type": "code",
      "execution_count": null,
      "metadata": {
        "id": "atY4cy0J8Tfi",
        "colab": {
          "base_uri": "https://localhost:8080/"
        },
        "outputId": "b697ac55-d711-4f21-87e5-6b3a02efac36"
      },
      "outputs": [
        {
          "output_type": "stream",
          "name": "stdout",
          "text": [
            "EVALUATION: most similar words to heavily: 0.551\n",
            "EVALUATION: most similar words to 6b: 0.495\n",
            "EVALUATION: most similar words to bignell: 0.490\n",
            "EVALUATION: most similar words to shoe: 0.490\n",
            "EVALUATION: most similar words to dwarfs: 0.486\n",
            "EVALUATION: most similar words to decathlon: 0.484\n",
            "EVALUATION: most similar words to success: 0.480\n",
            "EVALUATION: most similar words to wall: 0.477\n",
            "EVALUATION: most similar words to shigeru: 0.472\n",
            "EVALUATION: most similar words to package: 0.467\n"
          ]
        }
      ],
      "source": [
        "for word, sim in get_top_similar(\"india\").items():\n",
        "   print(\"EVALUATION: most similar words to {}: {:.3f}\".format(word, sim))"
      ]
    },
    {
      "cell_type": "markdown",
      "metadata": {
        "id": "Iz-elU-5nAL1"
      },
      "source": [
        "### Analogy Tests\n",
        "\n",
        "Analogy tests include questions of the format a:b::x:?, such tests are used to intrinsically evaluate the quality of word vectors.\n",
        "\n",
        "Here's one example."
      ]
    },
    {
      "cell_type": "code",
      "execution_count": null,
      "metadata": {
        "id": "-KrTVR2BnC9N",
        "colab": {
          "base_uri": "https://localhost:8080/"
        },
        "outputId": "fb91f352-954b-449f-fc2f-6de0124d9f65"
      },
      "outputs": [
        {
          "output_type": "stream",
          "name": "stdout",
          "text": [
            "king: 1.127\n",
            "passer: 0.986\n",
            "conceived: 0.958\n",
            "woman: 0.913\n",
            "expelled: 0.912\n"
          ]
        }
      ],
      "source": [
        "def get_analogy(word_1, word_2, word_3):\n",
        "\n",
        "  \"\"\"\n",
        "  top 5 most analgous vector calculated correspond to a set similar to\n",
        "  man: woman :: king: ? . This is calculated similar to the above case.\n",
        "\n",
        "  \"\"\"\n",
        "\n",
        "  emb1 = word_embeddings[vocab[word_1]]\n",
        "  emb2 = word_embeddings[vocab[word_2]]\n",
        "  emb3 = word_embeddings[vocab[word_3]]\n",
        "\n",
        "  emb4 = emb1 - emb2 + emb3\n",
        "\n",
        "  # compute dot products between 'emb4' and all word embeddings in the model.\n",
        "  emb4 = np.reshape(emb4, (len(emb4), 1))\n",
        "  dot_product = np.matmul(word_embeddings, emb4).flatten()\n",
        "\n",
        "  top5 = np.argsort(-dot_product)[:5]\n",
        "\n",
        "  return top5, dot_product\n",
        "\n",
        "top5_analogy, dot_product = get_analogy('king', 'man', 'woman')\n",
        "\n",
        "for word_id in top5_analogy:\n",
        "    print(\"{}: {:.3f}\".format(vocab.lookup_token(word_id), dot_product[word_id]))"
      ]
    },
    {
      "cell_type": "markdown",
      "metadata": {
        "id": "VKTVUVPEnGVN"
      },
      "source": [
        "The model performance will be evaluated based on an analogy output for the top 5 words. The following code will used to evaluate the performance of the model on the analogies dataset. We will measure how often the correct answer is a part of the top 5 options."
      ]
    },
    {
      "cell_type": "code",
      "source": [
        "# Downloading the file containing a few analogies.\n",
        "# We will change the contents of this file while testing.\n",
        "\n",
        "!wget -O analogies.txt \"https://drive.google.com/uc?export=download&id=1jHx25dECegjtRKBB587nEfHiJesrH0g2\""
      ],
      "metadata": {
        "colab": {
          "base_uri": "https://localhost:8080/"
        },
        "id": "f2hbpb_h5KgN",
        "outputId": "f7cc5952-590e-40d6-b3b3-ed623fdf9a37"
      },
      "execution_count": null,
      "outputs": [
        {
          "output_type": "stream",
          "name": "stdout",
          "text": [
            "--2024-02-04 10:37:38--  https://drive.google.com/uc?export=download&id=1jHx25dECegjtRKBB587nEfHiJesrH0g2\n",
            "Resolving drive.google.com (drive.google.com)... 108.177.119.113, 108.177.119.102, 108.177.119.101, ...\n",
            "Connecting to drive.google.com (drive.google.com)|108.177.119.113|:443... connected.\n",
            "HTTP request sent, awaiting response... 303 See Other\n",
            "Location: https://drive.usercontent.google.com/download?id=1jHx25dECegjtRKBB587nEfHiJesrH0g2&export=download [following]\n",
            "--2024-02-04 10:37:38--  https://drive.usercontent.google.com/download?id=1jHx25dECegjtRKBB587nEfHiJesrH0g2&export=download\n",
            "Resolving drive.usercontent.google.com (drive.usercontent.google.com)... 108.177.119.132, 2a00:1450:4013:c00::84\n",
            "Connecting to drive.usercontent.google.com (drive.usercontent.google.com)|108.177.119.132|:443... connected.\n",
            "HTTP request sent, awaiting response... 200 OK\n",
            "Length: 286075 (279K) [application/octet-stream]\n",
            "Saving to: ‘analogies.txt’\n",
            "\n",
            "analogies.txt       100%[===================>] 279.37K  --.-KB/s    in 0.002s  \n",
            "\n",
            "2024-02-04 10:37:39 (134 MB/s) - ‘analogies.txt’ saved [286075/286075]\n",
            "\n"
          ]
        }
      ]
    },
    {
      "cell_type": "code",
      "source": [
        "import random\n",
        "random.seed(42)\n",
        "\n",
        "def load_and_sample_analogies(file_path, sample_size=5000):\n",
        "    with open(file_path, 'r') as file:\n",
        "        analogies = []\n",
        "        for line in file:\n",
        "            # Split the line into words and ensure it has exactly 4 elements\n",
        "            parts = line.strip().split()\n",
        "            if len(parts) == 4:\n",
        "                analogies.append(parts)\n",
        "\n",
        "        # Sample analogies\n",
        "        sampled_analogies = random.sample(analogies, min(sample_size, len(analogies)))\n",
        "        return sampled_analogies\n",
        "\n",
        "# Path to your text file\n",
        "# NOTE: analogies used for grading could be slightly different\n",
        "file_path = '/content/analogies.txt'\n",
        "\n",
        "# Load and sample analogies\n",
        "sampled_analogy_dataset = load_and_sample_analogies(file_path)"
      ],
      "metadata": {
        "id": "obbMdoMe1Tw7"
      },
      "execution_count": null,
      "outputs": []
    },
    {
      "cell_type": "code",
      "source": [
        "def get_word_id(word, vocab):\n",
        "    \"\"\"check for out of vocabulary items\"\"\"\n",
        "    return vocab[word] if word in vocab else 0\n",
        "\n",
        "def analogy_score(analogy_dataset):\n",
        "    \"\"\"\n",
        "    The top5 analogous words calculated for each set of words for your\n",
        "    implementation of word2vec and compared with an existing dataset to\n",
        "    calculate if the expected word is in the first 5 predictions.\n",
        "    \"\"\"\n",
        "\n",
        "    correct = 0\n",
        "    total = 0\n",
        "\n",
        "    for a, b, c, d in analogy_dataset:\n",
        "        # Convert words to lowercase\n",
        "        a, b, c, d = a.lower(), b.lower(), c.lower(), d.lower()\n",
        "\n",
        "        # Check if any word is out of vocabulary\n",
        "        if 0 in [get_word_id(word, vocab) for word in [a, b, c, d]]:\n",
        "            continue\n",
        "\n",
        "        #finding the first five words that are analogous to the given set\n",
        "        top5_analogy, dot_product = get_analogy(c, a, b)\n",
        "\n",
        "        predicted_words = []\n",
        "\n",
        "        for word_id in top5_analogy:\n",
        "            word = vocab.lookup_token(word_id)\n",
        "            predicted_words.append(word)\n",
        "\n",
        "        if d in predicted_words:\n",
        "            correct += 1\n",
        "\n",
        "        total += 1\n",
        "\n",
        "    precision_at_5 = correct / total if total > 0 else 0\n",
        "    return precision_at_5\n",
        "\n",
        "precision_at_5 = analogy_score(sampled_analogy_dataset)\n",
        "print(\"EVALUATION: Precision at 5 for the analogy test is\", precision_at_5)"
      ],
      "metadata": {
        "id": "TuLvO2cV1W2j",
        "colab": {
          "base_uri": "https://localhost:8080/"
        },
        "outputId": "5e9eefdc-806d-4489-a384-35c6d83069b8"
      },
      "execution_count": null,
      "outputs": [
        {
          "output_type": "stream",
          "name": "stdout",
          "text": [
            "EVALUATION: Precision at 5 for the analogy test is 0.0\n"
          ]
        }
      ]
    },
    {
      "cell_type": "markdown",
      "metadata": {
        "id": "VwjiemeOnKvj"
      },
      "source": [
        "#### Google's word2vec for comparison\n",
        "\n",
        "In the following code blocks, the pretained word2vec developed by Google is used to analyze the quality of the embedding. The word2vec model can be downloaded from [here](https://drive.google.com/file/d/0B7XkCwpI5KDYNlNUTTlSS21pQmM/edit?usp=sharing)."
      ]
    },
    {
      "cell_type": "code",
      "source": [
        "!wget -O GoogleNews-vectors-negative300.bin \"https://drive.google.com/uc?export=download&id=12Oicgl5scdJLR7t8jbzKpW6o8QkYOylg\""
      ],
      "metadata": {
        "id": "2KhiakvJ3wwe"
      },
      "execution_count": null,
      "outputs": []
    },
    {
      "cell_type": "code",
      "source": [
        "import bs4\n",
        "import requests\n",
        "import tqdm.auto as tqdm\n",
        "\n",
        "def download_from_drive(drive_link, target_path):\n",
        "    response = requests.get(drive_link, stream=True)\n",
        "    response.raise_for_status()\n",
        "    if 'html' in response.headers['Content-Type']:\n",
        "        response = requests.get(drive_link)\n",
        "        response.raise_for_status()\n",
        "        page = bs4.BeautifulSoup(response.text, features=\"lxml\")\n",
        "        if form := page.find('form', id='download-form'):\n",
        "            id   = form.select_one(\"input[name='id']\")['value']\n",
        "            uuid = form.select_one(\"input[name='uuid']\")['value']\n",
        "            data = { 'confirm': 't', 'export': 'download', 'id': id, 'uuid': uuid }\n",
        "            response = requests.get(page.find('form')['action'], params=data, stream=True)\n",
        "            response.raise_for_status()\n",
        "    with open(target_path, 'wb+') as file:\n",
        "        with tqdm.tqdm(\n",
        "            total=int(response.headers['Content-Length']),\n",
        "            unit='B', unit_scale=True, unit_divisor=1024\n",
        "        ) as pbar:\n",
        "            for chunk in response.iter_content(chunk_size=4096):\n",
        "                file.write(chunk)\n",
        "                pbar.update(len(chunk))\n",
        "    print(\"Downloaded to\", target_path)\n",
        "\n",
        "drive_link = \"https://drive.google.com/uc?export=download&id=12Oicgl5scdJLR7t8jbzKpW6o8QkYOylg\"\n",
        "target_path = \"/content/GoogleNews-vectors-negative300.bin\"\n",
        "\n",
        "download_from_drive(drive_link, target_path)"
      ],
      "metadata": {
        "colab": {
          "base_uri": "https://localhost:8080/",
          "height": 66,
          "referenced_widgets": [
            "5bd74a59e5eb461abddc1a80693b17fa",
            "354caae4422a4271966b518d5215da3f",
            "8ddf0198ab3d4321ada64cce2b9f9e30",
            "b808b8d7743c4b44a6658067f739a0dc",
            "bf541b0f0dd8405ea1ae7610be9367a4",
            "b3478bb7c2224ca9aae994e937457171",
            "12f739a186c84d2089b2960866f04fe7",
            "4060151b31d2426d8b90154776d1f9d2",
            "753993d441a4437ea3e4d6fc562758c5",
            "4f830793b4bd49ddb9dccc97246467c8",
            "ba2533fc1b7d4065aad9c1b3a7c09285"
          ]
        },
        "id": "KNMjvv4K2xd0",
        "outputId": "3f72fcbf-6e56-4afc-a9d0-30bf6b4395bb"
      },
      "execution_count": null,
      "outputs": [
        {
          "output_type": "display_data",
          "data": {
            "text/plain": [
              "  0%|          | 0.00/3.39G [00:00<?, ?B/s]"
            ],
            "application/vnd.jupyter.widget-view+json": {
              "version_major": 2,
              "version_minor": 0,
              "model_id": "5bd74a59e5eb461abddc1a80693b17fa"
            }
          },
          "metadata": {}
        },
        {
          "output_type": "stream",
          "name": "stdout",
          "text": [
            "Downloaded to /content/GoogleNews-vectors-negative300.bin\n"
          ]
        }
      ]
    },
    {
      "cell_type": "code",
      "execution_count": null,
      "metadata": {
        "id": "mzoahZOUnQIO"
      },
      "outputs": [],
      "source": [
        "import gensim\n",
        "\n",
        "# Load Google news 300 vectors file\n",
        "model = gensim.models.KeyedVectors.load_word2vec_format('GoogleNews-vectors-negative300.bin', binary=True, limit=500000)"
      ]
    },
    {
      "cell_type": "code",
      "execution_count": null,
      "metadata": {
        "id": "ep71XY238WpV"
      },
      "outputs": [],
      "source": [
        "# List of words to plot the embeddings\n",
        "words = ['king', 'queen', 'river', 'water', 'ocean', 'tree', 'plant', 'happy', 'glad', 'mother', 'daughter']"
      ]
    },
    {
      "cell_type": "markdown",
      "metadata": {
        "id": "kLUtqxPrnWV9"
      },
      "source": [
        "> **Write a code to find the similarity of the each word in words with eachother using original word2vec**"
      ]
    },
    {
      "cell_type": "code",
      "execution_count": null,
      "metadata": {
        "id": "4QLcfJvvnYl9"
      },
      "outputs": [],
      "source": [
        "def get_word_similarity(words):\n",
        "  \"\"\"\n",
        "  This function takes the words as input and outputs the word vectors\n",
        "  corresponding to the words using Google's word2vec and the similarity of\n",
        "  every word with eachother. word2vec is the embedding matrix for the words\n",
        "  given above w2v_similarity[i][j] should contain the similarity of word i with j\n",
        "\n",
        "  \"\"\"\n",
        "  # ADD YOUR CODE HERE\n",
        "  embeddings = [model[word] for word in words]\n",
        "  word2vec = np.vstack(embeddings)\n",
        "  w2v_similarity = word2vec @ word2vec.T\n",
        "  # you'll have to compute the similarity matrix for the words given above\n",
        "\n",
        "  return word2vec, w2v_similarity\n",
        "\n",
        "word2vec, w2v_similarity = get_word_similarity(words)"
      ]
    },
    {
      "cell_type": "markdown",
      "metadata": {
        "id": "GLQn4B_snbfg"
      },
      "source": [
        "\n",
        "\n",
        "The similarity of each word with other words in words is displayed as a pandas dataframe and as a heatmap"
      ]
    },
    {
      "cell_type": "code",
      "execution_count": null,
      "metadata": {
        "id": "z3-NqzVunhg1",
        "colab": {
          "base_uri": "https://localhost:8080/",
          "height": 394
        },
        "outputId": "4ee6a898-46bd-4483-a6db-2e235ef056cd"
      },
      "outputs": [
        {
          "output_type": "execute_result",
          "data": {
            "text/plain": [
              "              king     queen     river     water     ocean       tree  \\\n",
              "king      8.423102  5.722430  0.785228  0.267843  0.575113   1.007388   \n",
              "queen     5.722430  9.170622  0.984901  0.143358  0.911733   1.080804   \n",
              "river     0.785228  0.984901  9.861762  4.695694  4.549959   2.304526   \n",
              "water     0.267843  0.143358  4.695694  6.718091  3.712166   1.615841   \n",
              "ocean     0.575113  0.911733  4.549959  3.712166  9.219197   1.369853   \n",
              "tree      1.007388  1.080804  2.304526  1.615841  1.369853  10.114445   \n",
              "plant     0.523052  0.838679  1.971759  2.196550  0.634483   2.630211   \n",
              "happy     0.810692  0.905472  0.567726  0.432687 -0.003828   0.603536   \n",
              "glad      0.499907  0.677755  0.607483  0.601773  0.116264   0.912030   \n",
              "mother    1.192300  2.242083  1.056440  0.736630  0.823182   1.542722   \n",
              "daughter  1.206529  2.581418  1.025930  0.575333  0.688811   1.541623   \n",
              "\n",
              "             plant     happy      glad    mother  daughter  \n",
              "king      0.523052  0.810692  0.499907  1.192300  1.206529  \n",
              "queen     0.838679  0.905472  0.677755  2.242083  2.581418  \n",
              "river     1.971759  0.567726  0.607483  1.056440  1.025930  \n",
              "water     2.196550  0.432687  0.601773  0.736630  0.575333  \n",
              "ocean     0.634483 -0.003828  0.116264  0.823182  0.688811  \n",
              "tree      2.630211  0.603536  0.912030  1.542722  1.541623  \n",
              "plant     9.726006 -0.080919 -0.005741  1.191172  0.805588  \n",
              "happy    -0.080919  6.084769  4.955558  0.757711  1.051131  \n",
              "glad     -0.005741  4.955558  7.352486  0.873935  1.371835  \n",
              "mother    1.191172  0.757711  0.873935  6.588373  6.242821  \n",
              "daughter  0.805588  1.051131  1.371835  6.242821  7.804096  "
            ],
            "text/html": [
              "\n",
              "  <div id=\"df-6b3d3712-814f-4fa2-b2db-b70be1c31eb4\" class=\"colab-df-container\">\n",
              "    <div>\n",
              "<style scoped>\n",
              "    .dataframe tbody tr th:only-of-type {\n",
              "        vertical-align: middle;\n",
              "    }\n",
              "\n",
              "    .dataframe tbody tr th {\n",
              "        vertical-align: top;\n",
              "    }\n",
              "\n",
              "    .dataframe thead th {\n",
              "        text-align: right;\n",
              "    }\n",
              "</style>\n",
              "<table border=\"1\" class=\"dataframe\">\n",
              "  <thead>\n",
              "    <tr style=\"text-align: right;\">\n",
              "      <th></th>\n",
              "      <th>king</th>\n",
              "      <th>queen</th>\n",
              "      <th>river</th>\n",
              "      <th>water</th>\n",
              "      <th>ocean</th>\n",
              "      <th>tree</th>\n",
              "      <th>plant</th>\n",
              "      <th>happy</th>\n",
              "      <th>glad</th>\n",
              "      <th>mother</th>\n",
              "      <th>daughter</th>\n",
              "    </tr>\n",
              "  </thead>\n",
              "  <tbody>\n",
              "    <tr>\n",
              "      <th>king</th>\n",
              "      <td>8.423102</td>\n",
              "      <td>5.722430</td>\n",
              "      <td>0.785228</td>\n",
              "      <td>0.267843</td>\n",
              "      <td>0.575113</td>\n",
              "      <td>1.007388</td>\n",
              "      <td>0.523052</td>\n",
              "      <td>0.810692</td>\n",
              "      <td>0.499907</td>\n",
              "      <td>1.192300</td>\n",
              "      <td>1.206529</td>\n",
              "    </tr>\n",
              "    <tr>\n",
              "      <th>queen</th>\n",
              "      <td>5.722430</td>\n",
              "      <td>9.170622</td>\n",
              "      <td>0.984901</td>\n",
              "      <td>0.143358</td>\n",
              "      <td>0.911733</td>\n",
              "      <td>1.080804</td>\n",
              "      <td>0.838679</td>\n",
              "      <td>0.905472</td>\n",
              "      <td>0.677755</td>\n",
              "      <td>2.242083</td>\n",
              "      <td>2.581418</td>\n",
              "    </tr>\n",
              "    <tr>\n",
              "      <th>river</th>\n",
              "      <td>0.785228</td>\n",
              "      <td>0.984901</td>\n",
              "      <td>9.861762</td>\n",
              "      <td>4.695694</td>\n",
              "      <td>4.549959</td>\n",
              "      <td>2.304526</td>\n",
              "      <td>1.971759</td>\n",
              "      <td>0.567726</td>\n",
              "      <td>0.607483</td>\n",
              "      <td>1.056440</td>\n",
              "      <td>1.025930</td>\n",
              "    </tr>\n",
              "    <tr>\n",
              "      <th>water</th>\n",
              "      <td>0.267843</td>\n",
              "      <td>0.143358</td>\n",
              "      <td>4.695694</td>\n",
              "      <td>6.718091</td>\n",
              "      <td>3.712166</td>\n",
              "      <td>1.615841</td>\n",
              "      <td>2.196550</td>\n",
              "      <td>0.432687</td>\n",
              "      <td>0.601773</td>\n",
              "      <td>0.736630</td>\n",
              "      <td>0.575333</td>\n",
              "    </tr>\n",
              "    <tr>\n",
              "      <th>ocean</th>\n",
              "      <td>0.575113</td>\n",
              "      <td>0.911733</td>\n",
              "      <td>4.549959</td>\n",
              "      <td>3.712166</td>\n",
              "      <td>9.219197</td>\n",
              "      <td>1.369853</td>\n",
              "      <td>0.634483</td>\n",
              "      <td>-0.003828</td>\n",
              "      <td>0.116264</td>\n",
              "      <td>0.823182</td>\n",
              "      <td>0.688811</td>\n",
              "    </tr>\n",
              "    <tr>\n",
              "      <th>tree</th>\n",
              "      <td>1.007388</td>\n",
              "      <td>1.080804</td>\n",
              "      <td>2.304526</td>\n",
              "      <td>1.615841</td>\n",
              "      <td>1.369853</td>\n",
              "      <td>10.114445</td>\n",
              "      <td>2.630211</td>\n",
              "      <td>0.603536</td>\n",
              "      <td>0.912030</td>\n",
              "      <td>1.542722</td>\n",
              "      <td>1.541623</td>\n",
              "    </tr>\n",
              "    <tr>\n",
              "      <th>plant</th>\n",
              "      <td>0.523052</td>\n",
              "      <td>0.838679</td>\n",
              "      <td>1.971759</td>\n",
              "      <td>2.196550</td>\n",
              "      <td>0.634483</td>\n",
              "      <td>2.630211</td>\n",
              "      <td>9.726006</td>\n",
              "      <td>-0.080919</td>\n",
              "      <td>-0.005741</td>\n",
              "      <td>1.191172</td>\n",
              "      <td>0.805588</td>\n",
              "    </tr>\n",
              "    <tr>\n",
              "      <th>happy</th>\n",
              "      <td>0.810692</td>\n",
              "      <td>0.905472</td>\n",
              "      <td>0.567726</td>\n",
              "      <td>0.432687</td>\n",
              "      <td>-0.003828</td>\n",
              "      <td>0.603536</td>\n",
              "      <td>-0.080919</td>\n",
              "      <td>6.084769</td>\n",
              "      <td>4.955558</td>\n",
              "      <td>0.757711</td>\n",
              "      <td>1.051131</td>\n",
              "    </tr>\n",
              "    <tr>\n",
              "      <th>glad</th>\n",
              "      <td>0.499907</td>\n",
              "      <td>0.677755</td>\n",
              "      <td>0.607483</td>\n",
              "      <td>0.601773</td>\n",
              "      <td>0.116264</td>\n",
              "      <td>0.912030</td>\n",
              "      <td>-0.005741</td>\n",
              "      <td>4.955558</td>\n",
              "      <td>7.352486</td>\n",
              "      <td>0.873935</td>\n",
              "      <td>1.371835</td>\n",
              "    </tr>\n",
              "    <tr>\n",
              "      <th>mother</th>\n",
              "      <td>1.192300</td>\n",
              "      <td>2.242083</td>\n",
              "      <td>1.056440</td>\n",
              "      <td>0.736630</td>\n",
              "      <td>0.823182</td>\n",
              "      <td>1.542722</td>\n",
              "      <td>1.191172</td>\n",
              "      <td>0.757711</td>\n",
              "      <td>0.873935</td>\n",
              "      <td>6.588373</td>\n",
              "      <td>6.242821</td>\n",
              "    </tr>\n",
              "    <tr>\n",
              "      <th>daughter</th>\n",
              "      <td>1.206529</td>\n",
              "      <td>2.581418</td>\n",
              "      <td>1.025930</td>\n",
              "      <td>0.575333</td>\n",
              "      <td>0.688811</td>\n",
              "      <td>1.541623</td>\n",
              "      <td>0.805588</td>\n",
              "      <td>1.051131</td>\n",
              "      <td>1.371835</td>\n",
              "      <td>6.242821</td>\n",
              "      <td>7.804096</td>\n",
              "    </tr>\n",
              "  </tbody>\n",
              "</table>\n",
              "</div>\n",
              "    <div class=\"colab-df-buttons\">\n",
              "\n",
              "  <div class=\"colab-df-container\">\n",
              "    <button class=\"colab-df-convert\" onclick=\"convertToInteractive('df-6b3d3712-814f-4fa2-b2db-b70be1c31eb4')\"\n",
              "            title=\"Convert this dataframe to an interactive table.\"\n",
              "            style=\"display:none;\">\n",
              "\n",
              "  <svg xmlns=\"http://www.w3.org/2000/svg\" height=\"24px\" viewBox=\"0 -960 960 960\">\n",
              "    <path d=\"M120-120v-720h720v720H120Zm60-500h600v-160H180v160Zm220 220h160v-160H400v160Zm0 220h160v-160H400v160ZM180-400h160v-160H180v160Zm440 0h160v-160H620v160ZM180-180h160v-160H180v160Zm440 0h160v-160H620v160Z\"/>\n",
              "  </svg>\n",
              "    </button>\n",
              "\n",
              "  <style>\n",
              "    .colab-df-container {\n",
              "      display:flex;\n",
              "      gap: 12px;\n",
              "    }\n",
              "\n",
              "    .colab-df-convert {\n",
              "      background-color: #E8F0FE;\n",
              "      border: none;\n",
              "      border-radius: 50%;\n",
              "      cursor: pointer;\n",
              "      display: none;\n",
              "      fill: #1967D2;\n",
              "      height: 32px;\n",
              "      padding: 0 0 0 0;\n",
              "      width: 32px;\n",
              "    }\n",
              "\n",
              "    .colab-df-convert:hover {\n",
              "      background-color: #E2EBFA;\n",
              "      box-shadow: 0px 1px 2px rgba(60, 64, 67, 0.3), 0px 1px 3px 1px rgba(60, 64, 67, 0.15);\n",
              "      fill: #174EA6;\n",
              "    }\n",
              "\n",
              "    .colab-df-buttons div {\n",
              "      margin-bottom: 4px;\n",
              "    }\n",
              "\n",
              "    [theme=dark] .colab-df-convert {\n",
              "      background-color: #3B4455;\n",
              "      fill: #D2E3FC;\n",
              "    }\n",
              "\n",
              "    [theme=dark] .colab-df-convert:hover {\n",
              "      background-color: #434B5C;\n",
              "      box-shadow: 0px 1px 3px 1px rgba(0, 0, 0, 0.15);\n",
              "      filter: drop-shadow(0px 1px 2px rgba(0, 0, 0, 0.3));\n",
              "      fill: #FFFFFF;\n",
              "    }\n",
              "  </style>\n",
              "\n",
              "    <script>\n",
              "      const buttonEl =\n",
              "        document.querySelector('#df-6b3d3712-814f-4fa2-b2db-b70be1c31eb4 button.colab-df-convert');\n",
              "      buttonEl.style.display =\n",
              "        google.colab.kernel.accessAllowed ? 'block' : 'none';\n",
              "\n",
              "      async function convertToInteractive(key) {\n",
              "        const element = document.querySelector('#df-6b3d3712-814f-4fa2-b2db-b70be1c31eb4');\n",
              "        const dataTable =\n",
              "          await google.colab.kernel.invokeFunction('convertToInteractive',\n",
              "                                                    [key], {});\n",
              "        if (!dataTable) return;\n",
              "\n",
              "        const docLinkHtml = 'Like what you see? Visit the ' +\n",
              "          '<a target=\"_blank\" href=https://colab.research.google.com/notebooks/data_table.ipynb>data table notebook</a>'\n",
              "          + ' to learn more about interactive tables.';\n",
              "        element.innerHTML = '';\n",
              "        dataTable['output_type'] = 'display_data';\n",
              "        await google.colab.output.renderOutput(dataTable, element);\n",
              "        const docLink = document.createElement('div');\n",
              "        docLink.innerHTML = docLinkHtml;\n",
              "        element.appendChild(docLink);\n",
              "      }\n",
              "    </script>\n",
              "  </div>\n",
              "\n",
              "\n",
              "<div id=\"df-0218c87d-60c8-4bb1-b17d-cc830f5b89d2\">\n",
              "  <button class=\"colab-df-quickchart\" onclick=\"quickchart('df-0218c87d-60c8-4bb1-b17d-cc830f5b89d2')\"\n",
              "            title=\"Suggest charts\"\n",
              "            style=\"display:none;\">\n",
              "\n",
              "<svg xmlns=\"http://www.w3.org/2000/svg\" height=\"24px\"viewBox=\"0 0 24 24\"\n",
              "     width=\"24px\">\n",
              "    <g>\n",
              "        <path d=\"M19 3H5c-1.1 0-2 .9-2 2v14c0 1.1.9 2 2 2h14c1.1 0 2-.9 2-2V5c0-1.1-.9-2-2-2zM9 17H7v-7h2v7zm4 0h-2V7h2v10zm4 0h-2v-4h2v4z\"/>\n",
              "    </g>\n",
              "</svg>\n",
              "  </button>\n",
              "\n",
              "<style>\n",
              "  .colab-df-quickchart {\n",
              "      --bg-color: #E8F0FE;\n",
              "      --fill-color: #1967D2;\n",
              "      --hover-bg-color: #E2EBFA;\n",
              "      --hover-fill-color: #174EA6;\n",
              "      --disabled-fill-color: #AAA;\n",
              "      --disabled-bg-color: #DDD;\n",
              "  }\n",
              "\n",
              "  [theme=dark] .colab-df-quickchart {\n",
              "      --bg-color: #3B4455;\n",
              "      --fill-color: #D2E3FC;\n",
              "      --hover-bg-color: #434B5C;\n",
              "      --hover-fill-color: #FFFFFF;\n",
              "      --disabled-bg-color: #3B4455;\n",
              "      --disabled-fill-color: #666;\n",
              "  }\n",
              "\n",
              "  .colab-df-quickchart {\n",
              "    background-color: var(--bg-color);\n",
              "    border: none;\n",
              "    border-radius: 50%;\n",
              "    cursor: pointer;\n",
              "    display: none;\n",
              "    fill: var(--fill-color);\n",
              "    height: 32px;\n",
              "    padding: 0;\n",
              "    width: 32px;\n",
              "  }\n",
              "\n",
              "  .colab-df-quickchart:hover {\n",
              "    background-color: var(--hover-bg-color);\n",
              "    box-shadow: 0 1px 2px rgba(60, 64, 67, 0.3), 0 1px 3px 1px rgba(60, 64, 67, 0.15);\n",
              "    fill: var(--button-hover-fill-color);\n",
              "  }\n",
              "\n",
              "  .colab-df-quickchart-complete:disabled,\n",
              "  .colab-df-quickchart-complete:disabled:hover {\n",
              "    background-color: var(--disabled-bg-color);\n",
              "    fill: var(--disabled-fill-color);\n",
              "    box-shadow: none;\n",
              "  }\n",
              "\n",
              "  .colab-df-spinner {\n",
              "    border: 2px solid var(--fill-color);\n",
              "    border-color: transparent;\n",
              "    border-bottom-color: var(--fill-color);\n",
              "    animation:\n",
              "      spin 1s steps(1) infinite;\n",
              "  }\n",
              "\n",
              "  @keyframes spin {\n",
              "    0% {\n",
              "      border-color: transparent;\n",
              "      border-bottom-color: var(--fill-color);\n",
              "      border-left-color: var(--fill-color);\n",
              "    }\n",
              "    20% {\n",
              "      border-color: transparent;\n",
              "      border-left-color: var(--fill-color);\n",
              "      border-top-color: var(--fill-color);\n",
              "    }\n",
              "    30% {\n",
              "      border-color: transparent;\n",
              "      border-left-color: var(--fill-color);\n",
              "      border-top-color: var(--fill-color);\n",
              "      border-right-color: var(--fill-color);\n",
              "    }\n",
              "    40% {\n",
              "      border-color: transparent;\n",
              "      border-right-color: var(--fill-color);\n",
              "      border-top-color: var(--fill-color);\n",
              "    }\n",
              "    60% {\n",
              "      border-color: transparent;\n",
              "      border-right-color: var(--fill-color);\n",
              "    }\n",
              "    80% {\n",
              "      border-color: transparent;\n",
              "      border-right-color: var(--fill-color);\n",
              "      border-bottom-color: var(--fill-color);\n",
              "    }\n",
              "    90% {\n",
              "      border-color: transparent;\n",
              "      border-bottom-color: var(--fill-color);\n",
              "    }\n",
              "  }\n",
              "</style>\n",
              "\n",
              "  <script>\n",
              "    async function quickchart(key) {\n",
              "      const quickchartButtonEl =\n",
              "        document.querySelector('#' + key + ' button');\n",
              "      quickchartButtonEl.disabled = true;  // To prevent multiple clicks.\n",
              "      quickchartButtonEl.classList.add('colab-df-spinner');\n",
              "      try {\n",
              "        const charts = await google.colab.kernel.invokeFunction(\n",
              "            'suggestCharts', [key], {});\n",
              "      } catch (error) {\n",
              "        console.error('Error during call to suggestCharts:', error);\n",
              "      }\n",
              "      quickchartButtonEl.classList.remove('colab-df-spinner');\n",
              "      quickchartButtonEl.classList.add('colab-df-quickchart-complete');\n",
              "    }\n",
              "    (() => {\n",
              "      let quickchartButtonEl =\n",
              "        document.querySelector('#df-0218c87d-60c8-4bb1-b17d-cc830f5b89d2 button');\n",
              "      quickchartButtonEl.style.display =\n",
              "        google.colab.kernel.accessAllowed ? 'block' : 'none';\n",
              "    })();\n",
              "  </script>\n",
              "</div>\n",
              "\n",
              "    </div>\n",
              "  </div>\n"
            ]
          },
          "metadata": {},
          "execution_count": 32
        }
      ],
      "source": [
        "pd.DataFrame(w2v_similarity, columns = words, index = words)"
      ]
    },
    {
      "cell_type": "code",
      "execution_count": null,
      "metadata": {
        "id": "koErrEInnjcd",
        "colab": {
          "base_uri": "https://localhost:8080/",
          "height": 498
        },
        "outputId": "9b8cf084-9d97-42a2-8dfd-c166cfa20b51"
      },
      "outputs": [
        {
          "output_type": "execute_result",
          "data": {
            "text/plain": [
              "<Axes: >"
            ]
          },
          "metadata": {},
          "execution_count": 33
        },
        {
          "output_type": "display_data",
          "data": {
            "text/plain": [
              "<Figure size 640x480 with 2 Axes>"
            ],
            "image/png": "[encoded data removed]"
          },
          "metadata": {}
        }
      ],
      "source": [
        "sns.heatmap(pd.DataFrame(w2v_similarity, columns = words, index = words))"
      ]
    },
    {
      "cell_type": "markdown",
      "metadata": {
        "id": "ptKTusGJnpLy"
      },
      "source": [
        "The size of the words embedding are reduced to to 2D and displayed as a scatterplot for analysis"
      ]
    },
    {
      "cell_type": "code",
      "execution_count": null,
      "metadata": {
        "id": "ADEMWok8nrX0"
      },
      "outputs": [],
      "source": [
        "#PCA on word2vec embedding\n",
        "pca = PCA(n_components=2)\n",
        "\n",
        "reduced_w2v = pca.fit_transform(word2vec)"
      ]
    },
    {
      "cell_type": "code",
      "execution_count": null,
      "metadata": {
        "id": "la2osFTxntIc",
        "colab": {
          "base_uri": "https://localhost:8080/",
          "height": 445
        },
        "outputId": "485e1d4f-1401-4473-eb8d-3a00798ed070"
      },
      "outputs": [
        {
          "output_type": "display_data",
          "data": {
            "text/plain": [
              "<Figure size 800x500 with 1 Axes>"
            ],
            "image/png": "[encoded data removed]"
          },
          "metadata": {}
        }
      ],
      "source": [
        "#plotting reduced order embeddings in a 2-D space\n",
        "\n",
        "plt.figure(figsize=(8,5))\n",
        "plt.scatter(reduced_w2v[:,0],reduced_w2v[:,1], s = 12, color = 'red')\n",
        "plt.xlim([-2.5,2.5])\n",
        "plt.ylim([-2.5,2.5])\n",
        "x, y = reduced_w2v[:,0] , reduced_w2v[:,1]\n",
        "for i in range(len(x)):\n",
        "    plt.annotate(words[i],xy=(x[i], y[i]),xytext=(x[i]+0.05,y[i]+0.05))"
      ]
    },
    {
      "cell_type": "code",
      "execution_count": null,
      "metadata": {
        "id": "Whg_kv2QnvXW",
        "colab": {
          "base_uri": "https://localhost:8080/"
        },
        "outputId": "32a530b1-2020-4878-c3fe-e83560b1f67e"
      },
      "outputs": [
        {
          "output_type": "execute_result",
          "data": {
            "text/plain": [
              "[('indian', 0.6967039704322815),\n",
              " ('usa', 0.6836211085319519),\n",
              " ('pakistan', 0.681516706943512),\n",
              " ('chennai', 0.6675503253936768),\n",
              " ('america', 0.6589399576187134),\n",
              " ('sri_lanka', 0.64982008934021),\n",
              " ('canada', 0.6490967869758606),\n",
              " ('australia', 0.6368584036827087),\n",
              " ('mexico', 0.6239137649536133),\n",
              " ('uk', 0.6221641898155212)]"
            ]
          },
          "metadata": {},
          "execution_count": 36
        }
      ],
      "source": [
        "model.most_similar('india')"
      ]
    },
    {
      "cell_type": "markdown",
      "metadata": {
        "id": "fIx8JEMynzK5"
      },
      "source": [
        "Analogy test"
      ]
    },
    {
      "cell_type": "code",
      "execution_count": null,
      "metadata": {
        "id": "N41c0AJKnzou"
      },
      "outputs": [],
      "source": [
        "def analogy(x1, x2, y1): #defining analogy function\n",
        "    result = model.most_similar(positive=[y1, x2], negative=[x1], topn = 5)\n",
        "    return result"
      ]
    },
    {
      "cell_type": "code",
      "execution_count": null,
      "metadata": {
        "id": "sbEfS_7An3RF",
        "colab": {
          "base_uri": "https://localhost:8080/"
        },
        "outputId": "1cce8a3b-184e-4686-ddd4-77e2364e922f"
      },
      "outputs": [
        {
          "output_type": "execute_result",
          "data": {
            "text/plain": [
              "[('queen', 0.7118193507194519),\n",
              " ('monarch', 0.6189674139022827),\n",
              " ('princess', 0.5902431011199951),\n",
              " ('crown_prince', 0.5499460697174072),\n",
              " ('prince', 0.5377321839332581)]"
            ]
          },
          "metadata": {},
          "execution_count": 38
        }
      ],
      "source": [
        "analogy('man', 'king', 'woman')"
      ]
    },
    {
      "cell_type": "code",
      "source": [
        "def analogy_score(analogy_dataset):\n",
        "\n",
        "    \"\"\"\n",
        "    The top5 analogous words calculated for each set of words for Google's\n",
        "    word2vec and compared with an existing dataset to calculate if the word\n",
        "    is in the first 5 predictions.\n",
        "\n",
        "    \"\"\"\n",
        "    correct = 0\n",
        "    total = 0\n",
        "\n",
        "    for a, b, c, d in analogy_dataset:\n",
        "        # Convert words to lowercase\n",
        "        a, b, c, d = a.lower(), b.lower(), c.lower(), d.lower()\n",
        "\n",
        "        words_scores = analogy(a,b,c)\n",
        "\n",
        "        predicted_words = [item[0] for item in words_scores]\n",
        "\n",
        "        if d in predicted_words:\n",
        "            correct += 1\n",
        "\n",
        "        total += 1\n",
        "\n",
        "    precision_at_5 = correct / total if total > 0 else 0\n",
        "    return precision_at_5\n",
        "\n",
        "precision_at_5_Google = analogy_score(sampled_analogy_dataset)\n",
        "print(\"EVALUATION: Precision at 5 for the analogy test with Google skip-gram model is\", precision_at_5_Google)"
      ],
      "metadata": {
        "id": "wbqo3EhNy952",
        "colab": {
          "base_uri": "https://localhost:8080/"
        },
        "outputId": "de43fc50-c8c1-4962-c1da-9b305f57d465"
      },
      "execution_count": null,
      "outputs": [
        {
          "output_type": "stream",
          "name": "stdout",
          "text": [
            "EVALUATION: Precision at 5 for the analogy test with Google skip-gram model is 0.8748\n"
          ]
        }
      ]
    },
    {
      "cell_type": "markdown",
      "metadata": {
        "id": "acp_DOcZn5j2"
      },
      "source": [
        "### Submission Instructions\n",
        "\n",
        "Mentioned at the top of the notebook."
      ]
    }
  ],
  "metadata": {
    "colab": {
      "provenance": [],
      "collapsed_sections": [
        "UAVFm89QjHP6",
        "M7ztqIifzwud",
        "0DPrrDVmF4qs"
      ],
      "gpuType": "T4"
    },
    "kernelspec": {
      "display_name": "Python 3",
      "name": "python3"
    },
    "language_info": {
      "name": "python"
    },
    "widgets": {
      "application/vnd.jupyter.widget-state+json": {
        "5bd74a59e5eb461abddc1a80693b17fa": {
          "model_module": "@jupyter-widgets/controls",
          "model_name": "HBoxModel",
          "model_module_version": "1.5.0",
          "state": {
            "_dom_classes": [],
            "_model_module": "@jupyter-widgets/controls",
            "_model_module_version": "1.5.0",
            "_model_name": "HBoxModel",
            "_view_count": null,
            "_view_module": "@jupyter-widgets/controls",
            "_view_module_version": "1.5.0",
            "_view_name": "HBoxView",
            "box_style": "",
            "children": [
              "IPY_MODEL_354caae4422a4271966b518d5215da3f",
              "IPY_MODEL_8ddf0198ab3d4321ada64cce2b9f9e30",
              "IPY_MODEL_b808b8d7743c4b44a6658067f739a0dc"
            ],
            "layout": "IPY_MODEL_bf541b0f0dd8405ea1ae7610be9367a4"
          }
        },
        "354caae4422a4271966b518d5215da3f": {
          "model_module": "@jupyter-widgets/controls",
          "model_name": "HTMLModel",
          "model_module_version": "1.5.0",
          "state": {
            "_dom_classes": [],
            "_model_module": "@jupyter-widgets/controls",
            "_model_module_version": "1.5.0",
            "_model_name": "HTMLModel",
            "_view_count": null,
            "_view_module": "@jupyter-widgets/controls",
            "_view_module_version": "1.5.0",
            "_view_name": "HTMLView",
            "description": "",
            "description_tooltip": null,
            "layout": "IPY_MODEL_b3478bb7c2224ca9aae994e937457171",
            "placeholder": "​",
            "style": "IPY_MODEL_12f739a186c84d2089b2960866f04fe7",
            "value": "100%"
          }
        },
        "8ddf0198ab3d4321ada64cce2b9f9e30": {
          "model_module": "@jupyter-widgets/controls",
          "model_name": "FloatProgressModel",
          "model_module_version": "1.5.0",
          "state": {
            "_dom_classes": [],
            "_model_module": "@jupyter-widgets/controls",
            "_model_module_version": "1.5.0",
            "_model_name": "FloatProgressModel",
            "_view_count": null,
            "_view_module": "@jupyter-widgets/controls",
            "_view_module_version": "1.5.0",
            "_view_name": "ProgressView",
            "bar_style": "success",
            "description": "",
            "description_tooltip": null,
            "layout": "IPY_MODEL_4060151b31d2426d8b90154776d1f9d2",
            "max": 3644258522,
            "min": 0,
            "orientation": "horizontal",
            "style": "IPY_MODEL_753993d441a4437ea3e4d6fc562758c5",
            "value": 3644258522
          }
        },
        "b808b8d7743c4b44a6658067f739a0dc": {
          "model_module": "@jupyter-widgets/controls",
          "model_name": "HTMLModel",
          "model_module_version": "1.5.0",
          "state": {
            "_dom_classes": [],
            "_model_module": "@jupyter-widgets/controls",
            "_model_module_version": "1.5.0",
            "_model_name": "HTMLModel",
            "_view_count": null,
            "_view_module": "@jupyter-widgets/controls",
            "_view_module_version": "1.5.0",
            "_view_name": "HTMLView",
            "description": "",
            "description_tooltip": null,
            "layout": "IPY_MODEL_4f830793b4bd49ddb9dccc97246467c8",
            "placeholder": "​",
            "style": "IPY_MODEL_ba2533fc1b7d4065aad9c1b3a7c09285",
            "value": " 3.39G/3.39G [00:33&lt;00:00, 108MB/s]"
          }
        },
        "bf541b0f0dd8405ea1ae7610be9367a4": {
          "model_module": "@jupyter-widgets/base",
          "model_name": "LayoutModel",
          "model_module_version": "1.2.0",
          "state": {
            "_model_module": "@jupyter-widgets/base",
            "_model_module_version": "1.2.0",
            "_model_name": "LayoutModel",
            "_view_count": null,
            "_view_module": "@jupyter-widgets/base",
            "_view_module_version": "1.2.0",
            "_view_name": "LayoutView",
            "align_content": null,
            "align_items": null,
            "align_self": null,
            "border": null,
            "bottom": null,
            "display": null,
            "flex": null,
            "flex_flow": null,
            "grid_area": null,
            "grid_auto_columns": null,
            "grid_auto_flow": null,
            "grid_auto_rows": null,
            "grid_column": null,
            "grid_gap": null,
            "grid_row": null,
            "grid_template_areas": null,
            "grid_template_columns": null,
            "grid_template_rows": null,
            "height": null,
            "justify_content": null,
            "justify_items": null,
            "left": null,
            "margin": null,
            "max_height": null,
            "max_width": null,
            "min_height": null,
            "min_width": null,
            "object_fit": null,
            "object_position": null,
            "order": null,
            "overflow": null,
            "overflow_x": null,
            "overflow_y": null,
            "padding": null,
            "right": null,
            "top": null,
            "visibility": null,
            "width": null
          }
        },
        "b3478bb7c2224ca9aae994e937457171": {
          "model_module": "@jupyter-widgets/base",
          "model_name": "LayoutModel",
          "model_module_version": "1.2.0",
          "state": {
            "_model_module": "@jupyter-widgets/base",
            "_model_module_version": "1.2.0",
            "_model_name": "LayoutModel",
            "_view_count": null,
            "_view_module": "@jupyter-widgets/base",
            "_view_module_version": "1.2.0",
            "_view_name": "LayoutView",
            "align_content": null,
            "align_items": null,
            "align_self": null,
            "border": null,
            "bottom": null,
            "display": null,
            "flex": null,
            "flex_flow": null,
            "grid_area": null,
            "grid_auto_columns": null,
            "grid_auto_flow": null,
            "grid_auto_rows": null,
            "grid_column": null,
            "grid_gap": null,
            "grid_row": null,
            "grid_template_areas": null,
            "grid_template_columns": null,
            "grid_template_rows": null,
            "height": null,
            "justify_content": null,
            "justify_items": null,
            "left": null,
            "margin": null,
            "max_height": null,
            "max_width": null,
            "min_height": null,
            "min_width": null,
            "object_fit": null,
            "object_position": null,
            "order": null,
            "overflow": null,
            "overflow_x": null,
            "overflow_y": null,
            "padding": null,
            "right": null,
            "top": null,
            "visibility": null,
            "width": null
          }
        },
        "12f739a186c84d2089b2960866f04fe7": {
          "model_module": "@jupyter-widgets/controls",
          "model_name": "DescriptionStyleModel",
          "model_module_version": "1.5.0",
          "state": {
            "_model_module": "@jupyter-widgets/controls",
            "_model_module_version": "1.5.0",
            "_model_name": "DescriptionStyleModel",
            "_view_count": null,
            "_view_module": "@jupyter-widgets/base",
            "_view_module_version": "1.2.0",
            "_view_name": "StyleView",
            "description_width": ""
          }
        },
        "4060151b31d2426d8b90154776d1f9d2": {
          "model_module": "@jupyter-widgets/base",
          "model_name": "LayoutModel",
          "model_module_version": "1.2.0",
          "state": {
            "_model_module": "@jupyter-widgets/base",
            "_model_module_version": "1.2.0",
            "_model_name": "LayoutModel",
            "_view_count": null,
            "_view_module": "@jupyter-widgets/base",
            "_view_module_version": "1.2.0",
            "_view_name": "LayoutView",
            "align_content": null,
            "align_items": null,
            "align_self": null,
            "border": null,
            "bottom": null,
            "display": null,
            "flex": null,
            "flex_flow": null,
            "grid_area": null,
            "grid_auto_columns": null,
            "grid_auto_flow": null,
            "grid_auto_rows": null,
            "grid_column": null,
            "grid_gap": null,
            "grid_row": null,
            "grid_template_areas": null,
            "grid_template_columns": null,
            "grid_template_rows": null,
            "height": null,
            "justify_content": null,
            "justify_items": null,
            "left": null,
            "margin": null,
            "max_height": null,
            "max_width": null,
            "min_height": null,
            "min_width": null,
            "object_fit": null,
            "object_position": null,
            "order": null,
            "overflow": null,
            "overflow_x": null,
            "overflow_y": null,
            "padding": null,
            "right": null,
            "top": null,
            "visibility": null,
            "width": null
          }
        },
        "753993d441a4437ea3e4d6fc562758c5": {
          "model_module": "@jupyter-widgets/controls",
          "model_name": "ProgressStyleModel",
          "model_module_version": "1.5.0",
          "state": {
            "_model_module": "@jupyter-widgets/controls",
            "_model_module_version": "1.5.0",
            "_model_name": "ProgressStyleModel",
            "_view_count": null,
            "_view_module": "@jupyter-widgets/base",
            "_view_module_version": "1.2.0",
            "_view_name": "StyleView",
            "bar_color": null,
            "description_width": ""
          }
        },
        "4f830793b4bd49ddb9dccc97246467c8": {
          "model_module": "@jupyter-widgets/base",
          "model_name": "LayoutModel",
          "model_module_version": "1.2.0",
          "state": {
            "_model_module": "@jupyter-widgets/base",
            "_model_module_version": "1.2.0",
            "_model_name": "LayoutModel",
            "_view_count": null,
            "_view_module": "@jupyter-widgets/base",
            "_view_module_version": "1.2.0",
            "_view_name": "LayoutView",
            "align_content": null,
            "align_items": null,
            "align_self": null,
            "border": null,
            "bottom": null,
            "display": null,
            "flex": null,
            "flex_flow": null,
            "grid_area": null,
            "grid_auto_columns": null,
            "grid_auto_flow": null,
            "grid_auto_rows": null,
            "grid_column": null,
            "grid_gap": null,
            "grid_row": null,
            "grid_template_areas": null,
            "grid_template_columns": null,
            "grid_template_rows": null,
            "height": null,
            "justify_content": null,
            "justify_items": null,
            "left": null,
            "margin": null,
            "max_height": null,
            "max_width": null,
            "min_height": null,
            "min_width": null,
            "object_fit": null,
            "object_position": null,
            "order": null,
            "overflow": null,
            "overflow_x": null,
            "overflow_y": null,
            "padding": null,
            "right": null,
            "top": null,
            "visibility": null,
            "width": null
          }
        },
        "ba2533fc1b7d4065aad9c1b3a7c09285": {
          "model_module": "@jupyter-widgets/controls",
          "model_name": "DescriptionStyleModel",
          "model_module_version": "1.5.0",
          "state": {
            "_model_module": "@jupyter-widgets/controls",
            "_model_module_version": "1.5.0",
            "_model_name": "DescriptionStyleModel",
            "_view_count": null,
            "_view_module": "@jupyter-widgets/base",
            "_view_module_version": "1.2.0",
            "_view_name": "StyleView",
            "description_width": ""
          }
        }
      }
    },
    "accelerator": "GPU"
  },
  "nbformat": 4,
  "nbformat_minor": 0
}